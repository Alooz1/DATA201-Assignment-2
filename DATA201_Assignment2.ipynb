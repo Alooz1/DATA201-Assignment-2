{
 "cells": [
  {
   "cell_type": "markdown",
   "metadata": {},
   "source": [
    "# Data 201\n",
    "\n",
    "Data Wrangling, S2 2022\n",
    "\n",
    "## Assignement 2\n",
    "\n",
    "### 20% of final grade\n",
    "\n",
    "## Due date: 11:59pm Friday 29th September 2023\n",
    "\n",
    "The assignment must be submitted on the DATA 201 and 422 Learn page and should be **your own pair** (or group of three if we are odd) **work**. Avoid plagiarism: if you are not sure what may constitute code plagiarism, read this http://web.science.mq.edu.au/~mtaylor/ponline/index.php?id=source-code-plagiarism. Remember, when in doubt **declare your sources**.  \n",
    "As a general rule, late submission are **highly** unsuggested. The pace of the course is very quick, and you don't want to be working on this too long, as you would have less time for other assignments. I suggest you to submit what you have ready by the time the assignment is due, even if it is not everything we required. For any particular problem, please contact [Thomas Li](thomas.li@canterbury.ac.nz) or [Giulio Dalla Riva](giulio.dallariva@canterbury.ac.nz) or TAs.\n",
    "\n",
    "\n",
    "## Instruction\n",
    "\n",
    "### Total: 20 marks.\n",
    "\n",
    "For this assignment you will work with data from the web. Your goal is to scrape it or request it, wrangle it, produce some plotting, in order to demonstrate that you are able to use the functions, plotting, and markdown format we have been learning.  \n",
    "You shall hand in your work as a jupyter R notebook comprehending the code, the plots and, **very important**, enough comments and explanations for us to understand what you did, how you did it, and why you did it. Remember: better comments, means better marks.  \n",
    "You can either modify this notebook or write a new one from scratch."
   ]
  },
  {
   "cell_type": "markdown",
   "metadata": {},
   "source": [
    "Do use the tidyverse syntax that's introduced in class and labs. If in doubt, refresh the lab material 1 to 7."
   ]
  },
  {
   "cell_type": "code",
   "execution_count": 1,
   "metadata": {
    "tags": []
   },
   "outputs": [
    {
     "name": "stderr",
     "output_type": "stream",
     "text": [
      "── \u001b[1mAttaching core tidyverse packages\u001b[22m ──────────────────────── tidyverse 2.0.0 ──\n",
      "\u001b[32m✔\u001b[39m \u001b[34mdplyr    \u001b[39m 1.1.2     \u001b[32m✔\u001b[39m \u001b[34mreadr    \u001b[39m 2.1.4\n",
      "\u001b[32m✔\u001b[39m \u001b[34mforcats  \u001b[39m 1.0.0     \u001b[32m✔\u001b[39m \u001b[34mstringr  \u001b[39m 1.5.0\n",
      "\u001b[32m✔\u001b[39m \u001b[34mggplot2  \u001b[39m 3.4.2     \u001b[32m✔\u001b[39m \u001b[34mtibble   \u001b[39m 3.2.1\n",
      "\u001b[32m✔\u001b[39m \u001b[34mlubridate\u001b[39m 1.9.2     \u001b[32m✔\u001b[39m \u001b[34mtidyr    \u001b[39m 1.3.0\n",
      "\u001b[32m✔\u001b[39m \u001b[34mpurrr    \u001b[39m 1.0.2     \n",
      "── \u001b[1mConflicts\u001b[22m ────────────────────────────────────────── tidyverse_conflicts() ──\n",
      "\u001b[31m✖\u001b[39m \u001b[34mdplyr\u001b[39m::\u001b[32mfilter()\u001b[39m masks \u001b[34mstats\u001b[39m::filter()\n",
      "\u001b[31m✖\u001b[39m \u001b[34mdplyr\u001b[39m::\u001b[32mlag()\u001b[39m    masks \u001b[34mstats\u001b[39m::lag()\n",
      "\u001b[36mℹ\u001b[39m Use the conflicted package (\u001b[3m\u001b[34m<http://conflicted.r-lib.org/>\u001b[39m\u001b[23m) to force all conflicts to become errors\n",
      "\n",
      "Attaching package: ‘magrittr’\n",
      "\n",
      "\n",
      "The following object is masked from ‘package:purrr’:\n",
      "\n",
      "    set_names\n",
      "\n",
      "\n",
      "The following object is masked from ‘package:tidyr’:\n",
      "\n",
      "    extract\n",
      "\n",
      "\n",
      "\n",
      "Attaching package: ‘rvest’\n",
      "\n",
      "\n",
      "The following object is masked from ‘package:readr’:\n",
      "\n",
      "    guess_encoding\n",
      "\n",
      "\n",
      "\n",
      "Attaching package: ‘jsonlite’\n",
      "\n",
      "\n",
      "The following object is masked from ‘package:purrr’:\n",
      "\n",
      "    flatten\n",
      "\n",
      "\n"
     ]
    }
   ],
   "source": [
    "# Loading all necessary libraries\n",
    "\n",
    "library(tidyverse) # loading this library so it allows us to tidy up and graph our data findings\n",
    "library(magrittr) # loading this library so it allows us to use the pipe operator.\n",
    "library(purrr) # loading this library so it allows us to create and work with functions\n",
    "library(glue) # loading this library so it allows us to concatenate variable when it is specified.\n",
    "library(stringr) # loading this library so it allows us to utilise string manipulations.\n",
    "library(rvest) # loading this library so it allows us to use functions for web scraping.\n",
    "library(polite) # loading this library so it allows us to use various functions responsible web scraping.\n",
    "library(jsonlite) # loading this library so it allows us to use functions when dealing with files in a JSON format."
   ]
  },
  {
   "cell_type": "markdown",
   "metadata": {},
   "source": [
    "### Task (a): scrape it (5 marks)\n",
    "\n",
    "Identify a website page showing information you find interesting. The information should be presented across more than one page. Select one of this pages (the rest is for later) and using `rvest` (and the suit of `tidyverse` libraries we used so far, plus any other one you may need) get the html into R."
   ]
  },
  {
   "cell_type": "code",
   "execution_count": 2,
   "metadata": {
    "tags": [],
    "vscode": {
     "languageId": "r"
    }
   },
   "outputs": [],
   "source": [
    "# URL of the top 25 most valuable clubs in the world\n",
    "url <- \"https://www.transfermarkt.com/spieler-statistik/wertvollstemannschaften/marktwertetop\""
   ]
  },
  {
   "cell_type": "code",
   "execution_count": 3,
   "metadata": {
    "tags": []
   },
   "outputs": [
    {
     "data": {
      "text/plain": [
       "<polite session> https://www.transfermarkt.com/spieler-statistik/wertvollstemannschaften/marktwertetop\n",
       "    User-agent: polite R package\n",
       "    robots.txt: 3 rules are defined for 4 bots\n",
       "   Crawl delay: 5 sec\n",
       "  The path is scrapable for this user-agent"
      ]
     },
     "metadata": {},
     "output_type": "display_data"
    }
   ],
   "source": [
    "# checking if we are allowed to scrape the site\n",
    "session <- url %>% \n",
    "    bow()\n",
    "session"
   ]
  },
  {
   "cell_type": "code",
   "execution_count": 4,
   "metadata": {
    "tags": []
   },
   "outputs": [
    {
     "data": {
      "text/plain": [
       "{html_document}\n",
       "<html lang=\"en\">\n",
       "[1] <head>\\n<meta http-equiv=\"Content-Type\" content=\"text/html; charset=UTF-8 ...\n",
       "[2] <body>\\n<div class=\"werbung werbung-header\">\\n\\n<script type=\"text/javasc ..."
      ]
     },
     "metadata": {},
     "output_type": "display_data"
    }
   ],
   "source": [
    "# reading out then printing out the content of the page that has the top 25 most valuable clubs\n",
    "stats <- url %>% \n",
    "  read_html()\n",
    "stats"
   ]
  },
  {
   "cell_type": "code",
   "execution_count": 5,
   "metadata": {
    "tags": []
   },
   "outputs": [
    {
     "data": {
      "text/html": [
       "<style>\n",
       ".list-inline {list-style: none; margin:0; padding: 0}\n",
       ".list-inline>li {display: inline-block}\n",
       ".list-inline>li:not(:last-child)::after {content: \"\\00b7\"; padding: 0 .5ex}\n",
       "</style>\n",
       "<ol class=list-inline><li>'Manchester City'</li><li>'Arsenal FC'</li><li>'Paris Saint-Germain'</li><li>'Real Madrid'</li><li>'Chelsea FC'</li><li>'Bayern Munich'</li><li>'Manchester United'</li><li>'Liverpool FC'</li><li>'FC Barcelona'</li><li>'Tottenham Hotspur'</li><li>'Newcastle United'</li><li>'Aston Villa'</li><li>'SSC Napoli'</li><li>'AC Milan'</li><li>'Inter Milan'</li><li>'Borussia Dortmund'</li><li>'Bayer 04 Leverkusen'</li><li>'West Ham United'</li><li>'Atlético de Madrid'</li><li>'Juventus FC'</li><li>'RB Leipzig'</li><li>'Real Sociedad'</li><li>'Nottingham Forest'</li><li>'AS Roma'</li><li>'Brighton &amp; Hove Albion'</li></ol>\n"
      ],
      "text/latex": [
       "\\begin{enumerate*}\n",
       "\\item 'Manchester City'\n",
       "\\item 'Arsenal FC'\n",
       "\\item 'Paris Saint-Germain'\n",
       "\\item 'Real Madrid'\n",
       "\\item 'Chelsea FC'\n",
       "\\item 'Bayern Munich'\n",
       "\\item 'Manchester United'\n",
       "\\item 'Liverpool FC'\n",
       "\\item 'FC Barcelona'\n",
       "\\item 'Tottenham Hotspur'\n",
       "\\item 'Newcastle United'\n",
       "\\item 'Aston Villa'\n",
       "\\item 'SSC Napoli'\n",
       "\\item 'AC Milan'\n",
       "\\item 'Inter Milan'\n",
       "\\item 'Borussia Dortmund'\n",
       "\\item 'Bayer 04 Leverkusen'\n",
       "\\item 'West Ham United'\n",
       "\\item 'Atlético de Madrid'\n",
       "\\item 'Juventus FC'\n",
       "\\item 'RB Leipzig'\n",
       "\\item 'Real Sociedad'\n",
       "\\item 'Nottingham Forest'\n",
       "\\item 'AS Roma'\n",
       "\\item 'Brighton \\& Hove Albion'\n",
       "\\end{enumerate*}\n"
      ],
      "text/markdown": [
       "1. 'Manchester City'\n",
       "2. 'Arsenal FC'\n",
       "3. 'Paris Saint-Germain'\n",
       "4. 'Real Madrid'\n",
       "5. 'Chelsea FC'\n",
       "6. 'Bayern Munich'\n",
       "7. 'Manchester United'\n",
       "8. 'Liverpool FC'\n",
       "9. 'FC Barcelona'\n",
       "10. 'Tottenham Hotspur'\n",
       "11. 'Newcastle United'\n",
       "12. 'Aston Villa'\n",
       "13. 'SSC Napoli'\n",
       "14. 'AC Milan'\n",
       "15. 'Inter Milan'\n",
       "16. 'Borussia Dortmund'\n",
       "17. 'Bayer 04 Leverkusen'\n",
       "18. 'West Ham United'\n",
       "19. 'Atlético de Madrid'\n",
       "20. 'Juventus FC'\n",
       "21. 'RB Leipzig'\n",
       "22. 'Real Sociedad'\n",
       "23. 'Nottingham Forest'\n",
       "24. 'AS Roma'\n",
       "25. 'Brighton &amp; Hove Albion'\n",
       "\n",
       "\n"
      ],
      "text/plain": [
       " [1] \"Manchester City\"        \"Arsenal FC\"             \"Paris Saint-Germain\"   \n",
       " [4] \"Real Madrid\"            \"Chelsea FC\"             \"Bayern Munich\"         \n",
       " [7] \"Manchester United\"      \"Liverpool FC\"           \"FC Barcelona\"          \n",
       "[10] \"Tottenham Hotspur\"      \"Newcastle United\"       \"Aston Villa\"           \n",
       "[13] \"SSC Napoli\"             \"AC Milan\"               \"Inter Milan\"           \n",
       "[16] \"Borussia Dortmund\"      \"Bayer 04 Leverkusen\"    \"West Ham United\"       \n",
       "[19] \"Atlético de Madrid\"     \"Juventus FC\"            \"RB Leipzig\"            \n",
       "[22] \"Real Sociedad\"          \"Nottingham Forest\"      \"AS Roma\"               \n",
       "[25] \"Brighton & Hove Albion\""
      ]
     },
     "metadata": {},
     "output_type": "display_data"
    }
   ],
   "source": [
    "# scraping the club names of top 25 clubs in the world\n",
    "club_names <- stats %>%\n",
    "     html_nodes(\"#yw1 .hauptlink\") %>% # selecting parts of the page \n",
    "     html_text() # this was used to parse the text from the links so only the title is shown\n",
    "club_names"
   ]
  },
  {
   "cell_type": "code",
   "execution_count": 6,
   "metadata": {
    "tags": []
   },
   "outputs": [
    {
     "data": {
      "text/html": [
       "<style>\n",
       ".list-inline {list-style: none; margin:0; padding: 0}\n",
       ".list-inline>li {display: inline-block}\n",
       ".list-inline>li:not(:last-child)::after {content: \"\\00b7\"; padding: 0 .5ex}\n",
       "</style>\n",
       "<ol class=list-inline><li>'Premier League'</li><li>'Premier League'</li><li>'Ligue 1'</li><li>'LaLiga'</li><li>'Premier League'</li><li>'Bundesliga'</li><li>'Premier League'</li><li>'Premier League'</li><li>'LaLiga'</li><li>'Premier League'</li><li>'Premier League'</li><li>'Premier League'</li><li>'Serie A'</li><li>'Serie A'</li><li>'Serie A'</li><li>'Bundesliga'</li><li>'Bundesliga'</li><li>'Premier League'</li><li>'LaLiga'</li><li>'Serie A'</li><li>'Bundesliga'</li><li>'LaLiga'</li><li>'Premier League'</li><li>'Serie A'</li><li>'Premier League'</li></ol>\n"
      ],
      "text/latex": [
       "\\begin{enumerate*}\n",
       "\\item 'Premier League'\n",
       "\\item 'Premier League'\n",
       "\\item 'Ligue 1'\n",
       "\\item 'LaLiga'\n",
       "\\item 'Premier League'\n",
       "\\item 'Bundesliga'\n",
       "\\item 'Premier League'\n",
       "\\item 'Premier League'\n",
       "\\item 'LaLiga'\n",
       "\\item 'Premier League'\n",
       "\\item 'Premier League'\n",
       "\\item 'Premier League'\n",
       "\\item 'Serie A'\n",
       "\\item 'Serie A'\n",
       "\\item 'Serie A'\n",
       "\\item 'Bundesliga'\n",
       "\\item 'Bundesliga'\n",
       "\\item 'Premier League'\n",
       "\\item 'LaLiga'\n",
       "\\item 'Serie A'\n",
       "\\item 'Bundesliga'\n",
       "\\item 'LaLiga'\n",
       "\\item 'Premier League'\n",
       "\\item 'Serie A'\n",
       "\\item 'Premier League'\n",
       "\\end{enumerate*}\n"
      ],
      "text/markdown": [
       "1. 'Premier League'\n",
       "2. 'Premier League'\n",
       "3. 'Ligue 1'\n",
       "4. 'LaLiga'\n",
       "5. 'Premier League'\n",
       "6. 'Bundesliga'\n",
       "7. 'Premier League'\n",
       "8. 'Premier League'\n",
       "9. 'LaLiga'\n",
       "10. 'Premier League'\n",
       "11. 'Premier League'\n",
       "12. 'Premier League'\n",
       "13. 'Serie A'\n",
       "14. 'Serie A'\n",
       "15. 'Serie A'\n",
       "16. 'Bundesliga'\n",
       "17. 'Bundesliga'\n",
       "18. 'Premier League'\n",
       "19. 'LaLiga'\n",
       "20. 'Serie A'\n",
       "21. 'Bundesliga'\n",
       "22. 'LaLiga'\n",
       "23. 'Premier League'\n",
       "24. 'Serie A'\n",
       "25. 'Premier League'\n",
       "\n",
       "\n"
      ],
      "text/plain": [
       " [1] \"Premier League\" \"Premier League\" \"Ligue 1\"        \"LaLiga\"        \n",
       " [5] \"Premier League\" \"Bundesliga\"     \"Premier League\" \"Premier League\"\n",
       " [9] \"LaLiga\"         \"Premier League\" \"Premier League\" \"Premier League\"\n",
       "[13] \"Serie A\"        \"Serie A\"        \"Serie A\"        \"Bundesliga\"    \n",
       "[17] \"Bundesliga\"     \"Premier League\" \"LaLiga\"         \"Serie A\"       \n",
       "[21] \"Bundesliga\"     \"LaLiga\"         \"Premier League\" \"Serie A\"       \n",
       "[25] \"Premier League\""
      ]
     },
     "metadata": {},
     "output_type": "display_data"
    }
   ],
   "source": [
    "# scraping what leagues the top 25 most valuable clubs play in\n",
    "league <- stats %>%\n",
    "     html_nodes(\"td.links\") %>% # selecting parts of the page \n",
    "     html_text() # this was used to parse the text from the links so only the title is shown\n",
    "league"
   ]
  },
  {
   "cell_type": "code",
   "execution_count": 7,
   "metadata": {
    "tags": []
   },
   "outputs": [
    {
     "data": {
      "text/html": [
       "<style>\n",
       ".list-inline {list-style: none; margin:0; padding: 0}\n",
       ".list-inline>li {display: inline-block}\n",
       ".list-inline>li:not(:last-child)::after {content: \"\\00b7\"; padding: 0 .5ex}\n",
       "</style>\n",
       "<ol class=list-inline><li>'€1.18bn '</li><li>'€1.09bn '</li><li>'€1.03bn '</li><li>'€991.00m '</li><li>'€925.75m '</li><li>'€897.53m '</li><li>'€882.30m '</li><li>'€830.70m '</li><li>'€814.30m '</li><li>'€689.30m '</li><li>'€598.00m '</li><li>'€597.70m '</li><li>'€577.75m '</li><li>'€529.15m '</li><li>'€523.35m '</li><li>'€467.00m '</li><li>'€446.05m '</li><li>'€443.15m '</li><li>'€442.00m '</li><li>'€433.20m '</li><li>'€403.10m '</li><li>'€397.75m '</li><li>'€381.58m '</li><li>'€381.55m '</li><li>'€376.30m '</li></ol>\n"
      ],
      "text/latex": [
       "\\begin{enumerate*}\n",
       "\\item '€1.18bn '\n",
       "\\item '€1.09bn '\n",
       "\\item '€1.03bn '\n",
       "\\item '€991.00m '\n",
       "\\item '€925.75m '\n",
       "\\item '€897.53m '\n",
       "\\item '€882.30m '\n",
       "\\item '€830.70m '\n",
       "\\item '€814.30m '\n",
       "\\item '€689.30m '\n",
       "\\item '€598.00m '\n",
       "\\item '€597.70m '\n",
       "\\item '€577.75m '\n",
       "\\item '€529.15m '\n",
       "\\item '€523.35m '\n",
       "\\item '€467.00m '\n",
       "\\item '€446.05m '\n",
       "\\item '€443.15m '\n",
       "\\item '€442.00m '\n",
       "\\item '€433.20m '\n",
       "\\item '€403.10m '\n",
       "\\item '€397.75m '\n",
       "\\item '€381.58m '\n",
       "\\item '€381.55m '\n",
       "\\item '€376.30m '\n",
       "\\end{enumerate*}\n"
      ],
      "text/markdown": [
       "1. '€1.18bn '\n",
       "2. '€1.09bn '\n",
       "3. '€1.03bn '\n",
       "4. '€991.00m '\n",
       "5. '€925.75m '\n",
       "6. '€897.53m '\n",
       "7. '€882.30m '\n",
       "8. '€830.70m '\n",
       "9. '€814.30m '\n",
       "10. '€689.30m '\n",
       "11. '€598.00m '\n",
       "12. '€597.70m '\n",
       "13. '€577.75m '\n",
       "14. '€529.15m '\n",
       "15. '€523.35m '\n",
       "16. '€467.00m '\n",
       "17. '€446.05m '\n",
       "18. '€443.15m '\n",
       "19. '€442.00m '\n",
       "20. '€433.20m '\n",
       "21. '€403.10m '\n",
       "22. '€397.75m '\n",
       "23. '€381.58m '\n",
       "24. '€381.55m '\n",
       "25. '€376.30m '\n",
       "\n",
       "\n"
      ],
      "text/plain": [
       " [1] \"€1.18bn \"  \"€1.09bn \"  \"€1.03bn \"  \"€991.00m \" \"€925.75m \" \"€897.53m \"\n",
       " [7] \"€882.30m \" \"€830.70m \" \"€814.30m \" \"€689.30m \" \"€598.00m \" \"€597.70m \"\n",
       "[13] \"€577.75m \" \"€529.15m \" \"€523.35m \" \"€467.00m \" \"€446.05m \" \"€443.15m \"\n",
       "[19] \"€442.00m \" \"€433.20m \" \"€403.10m \" \"€397.75m \" \"€381.58m \" \"€381.55m \"\n",
       "[25] \"€376.30m \""
      ]
     },
     "metadata": {},
     "output_type": "display_data"
    }
   ],
   "source": [
    "# scraping the market value of the top 25 clubs in the world\n",
    "market_value <- stats %>%\n",
    "     html_nodes(\"#yw1 td.rechts\") %>% # selecting parts of the page \n",
    "     html_text() # this was used to parse the text from the links so only the title is shown\n",
    "market_value"
   ]
  },
  {
   "cell_type": "code",
   "execution_count": 8,
   "metadata": {
    "tags": []
   },
   "outputs": [],
   "source": [
    "# URL of the top 25 most valubale clubs in Saudi Arabia\n",
    "\n",
    "url2 <- \"https://www.transfermarkt.com/vereins-statistik/wertvollstemannschaften/marktwertetop/plus/0/galerie/0?land_id=146&kontinent_id=1&yt0=Show\""
   ]
  },
  {
   "cell_type": "code",
   "execution_count": 9,
   "metadata": {
    "tags": []
   },
   "outputs": [
    {
     "data": {
      "text/plain": [
       "<polite session> https://www.transfermarkt.com/vereins-statistik/wertvollstemannschaften/marktwertetop/plus/0/galerie/0?land_id=146&kontinent_id=1&yt0=Show\n",
       "    User-agent: polite R package\n",
       "    robots.txt: 3 rules are defined for 4 bots\n",
       "   Crawl delay: 5 sec\n",
       "  The path is scrapable for this user-agent"
      ]
     },
     "metadata": {},
     "output_type": "display_data"
    }
   ],
   "source": [
    "# checking if we are allowed to scrape the site\n",
    "session <- url2 %>% \n",
    "    bow()\n",
    "session"
   ]
  },
  {
   "cell_type": "code",
   "execution_count": 10,
   "metadata": {
    "tags": []
   },
   "outputs": [
    {
     "data": {
      "text/plain": [
       "{html_document}\n",
       "<html lang=\"en\">\n",
       "[1] <head>\\n<meta http-equiv=\"Content-Type\" content=\"text/html; charset=UTF-8 ...\n",
       "[2] <body>\\n<div class=\"werbung werbung-header\">\\n\\n<script type=\"text/javasc ..."
      ]
     },
     "metadata": {},
     "output_type": "display_data"
    }
   ],
   "source": [
    "# reading out then printing out the content of the page that has the top 25 most valuable clubs in Saudi Arabia\n",
    "\n",
    "stats2 <- url2 %>% \n",
    "  read_html()\n",
    "stats2"
   ]
  },
  {
   "cell_type": "code",
   "execution_count": 11,
   "metadata": {
    "tags": []
   },
   "outputs": [
    {
     "data": {
      "text/html": [
       "<style>\n",
       ".list-inline {list-style: none; margin:0; padding: 0}\n",
       ".list-inline>li {display: inline-block}\n",
       ".list-inline>li:not(:last-child)::after {content: \"\\00b7\"; padding: 0 .5ex}\n",
       "</style>\n",
       "<ol class=list-inline><li>'Al-Hilal SFC'</li><li>'Al-Ahli SFC'</li><li>'Al-Nassr FC'</li><li>'Al-Ittihad Club'</li><li>'Al-Shabab FC'</li><li>'Al-Ettifaq FC'</li><li>'Al-Taawoun FC'</li><li>'Al-Fayha FC'</li><li>'Abha Club'</li><li>'Al-Fateh SC'</li><li>'Al-Riyadh SC'</li><li>'Damac FC'</li><li>'Al-Raed SFC'</li><li>'Al-Tai FC'</li><li>'Al-Hazem SC'</li><li>'Al-Okhdood Club'</li><li>'Al-Wehda FC'</li><li>'Al-Qadsiah FC'</li><li>'Al-Khaleej FC'</li><li>'Ohod Club'</li><li>'Al-Adalah FC'</li><li>'Al-Batin FC'</li><li>'Al-Faisaly FC'</li><li>'Al-Bukiryah FC'</li><li>'Al-Jabalain FC'</li></ol>\n"
      ],
      "text/latex": [
       "\\begin{enumerate*}\n",
       "\\item 'Al-Hilal SFC'\n",
       "\\item 'Al-Ahli SFC'\n",
       "\\item 'Al-Nassr FC'\n",
       "\\item 'Al-Ittihad Club'\n",
       "\\item 'Al-Shabab FC'\n",
       "\\item 'Al-Ettifaq FC'\n",
       "\\item 'Al-Taawoun FC'\n",
       "\\item 'Al-Fayha FC'\n",
       "\\item 'Abha Club'\n",
       "\\item 'Al-Fateh SC'\n",
       "\\item 'Al-Riyadh SC'\n",
       "\\item 'Damac FC'\n",
       "\\item 'Al-Raed SFC'\n",
       "\\item 'Al-Tai FC'\n",
       "\\item 'Al-Hazem SC'\n",
       "\\item 'Al-Okhdood Club'\n",
       "\\item 'Al-Wehda FC'\n",
       "\\item 'Al-Qadsiah FC'\n",
       "\\item 'Al-Khaleej FC'\n",
       "\\item 'Ohod Club'\n",
       "\\item 'Al-Adalah FC'\n",
       "\\item 'Al-Batin FC'\n",
       "\\item 'Al-Faisaly FC'\n",
       "\\item 'Al-Bukiryah FC'\n",
       "\\item 'Al-Jabalain FC'\n",
       "\\end{enumerate*}\n"
      ],
      "text/markdown": [
       "1. 'Al-Hilal SFC'\n",
       "2. 'Al-Ahli SFC'\n",
       "3. 'Al-Nassr FC'\n",
       "4. 'Al-Ittihad Club'\n",
       "5. 'Al-Shabab FC'\n",
       "6. 'Al-Ettifaq FC'\n",
       "7. 'Al-Taawoun FC'\n",
       "8. 'Al-Fayha FC'\n",
       "9. 'Abha Club'\n",
       "10. 'Al-Fateh SC'\n",
       "11. 'Al-Riyadh SC'\n",
       "12. 'Damac FC'\n",
       "13. 'Al-Raed SFC'\n",
       "14. 'Al-Tai FC'\n",
       "15. 'Al-Hazem SC'\n",
       "16. 'Al-Okhdood Club'\n",
       "17. 'Al-Wehda FC'\n",
       "18. 'Al-Qadsiah FC'\n",
       "19. 'Al-Khaleej FC'\n",
       "20. 'Ohod Club'\n",
       "21. 'Al-Adalah FC'\n",
       "22. 'Al-Batin FC'\n",
       "23. 'Al-Faisaly FC'\n",
       "24. 'Al-Bukiryah FC'\n",
       "25. 'Al-Jabalain FC'\n",
       "\n",
       "\n"
      ],
      "text/plain": [
       " [1] \"Al-Hilal SFC\"    \"Al-Ahli SFC\"     \"Al-Nassr FC\"     \"Al-Ittihad Club\"\n",
       " [5] \"Al-Shabab FC\"    \"Al-Ettifaq FC\"   \"Al-Taawoun FC\"   \"Al-Fayha FC\"    \n",
       " [9] \"Abha Club\"       \"Al-Fateh SC\"     \"Al-Riyadh SC\"    \"Damac FC\"       \n",
       "[13] \"Al-Raed SFC\"     \"Al-Tai FC\"       \"Al-Hazem SC\"     \"Al-Okhdood Club\"\n",
       "[17] \"Al-Wehda FC\"     \"Al-Qadsiah FC\"   \"Al-Khaleej FC\"   \"Ohod Club\"      \n",
       "[21] \"Al-Adalah FC\"    \"Al-Batin FC\"     \"Al-Faisaly FC\"   \"Al-Bukiryah FC\" \n",
       "[25] \"Al-Jabalain FC\" "
      ]
     },
     "metadata": {},
     "output_type": "display_data"
    }
   ],
   "source": [
    "# scraping the names of each club that are in top 25 most valuable clubs in Saudi Arabia\n",
    "saudi_clubs <- stats2 %>%\n",
    "     html_nodes(\"#yw1 .hauptlink\") %>% # selecting parts of the page \n",
    "     html_text() # this was used to parse the text from the links so only the title is shown\n",
    "saudi_clubs"
   ]
  },
  {
   "cell_type": "code",
   "execution_count": 12,
   "metadata": {
    "tags": []
   },
   "outputs": [
    {
     "data": {
      "text/html": [
       "<style>\n",
       ".list-inline {list-style: none; margin:0; padding: 0}\n",
       ".list-inline>li {display: inline-block}\n",
       ".list-inline>li:not(:last-child)::after {content: \"\\00b7\"; padding: 0 .5ex}\n",
       "</style>\n",
       "<ol class=list-inline><li>'Saudi Pro League'</li><li>'Saudi Pro League'</li><li>'Saudi Pro League'</li><li>'Saudi Pro League'</li><li>'Saudi Pro League'</li><li>'Saudi Pro League'</li><li>'Saudi Pro League'</li><li>'Saudi Pro League'</li><li>'Saudi Pro League'</li><li>'Saudi Pro League'</li><li>'Saudi Pro League'</li><li>'Saudi Pro League'</li><li>'Saudi Pro League'</li><li>'Saudi Pro League'</li><li>'Saudi Pro League'</li><li>'Saudi Pro League'</li><li>'Saudi Pro League'</li><li>'Yelo League'</li><li>'Saudi Pro League'</li><li>'Yelo League'</li><li>'Yelo League'</li><li>'Yelo League'</li><li>'Yelo League'</li><li>'Yelo League'</li><li>'Yelo League'</li></ol>\n"
      ],
      "text/latex": [
       "\\begin{enumerate*}\n",
       "\\item 'Saudi Pro League'\n",
       "\\item 'Saudi Pro League'\n",
       "\\item 'Saudi Pro League'\n",
       "\\item 'Saudi Pro League'\n",
       "\\item 'Saudi Pro League'\n",
       "\\item 'Saudi Pro League'\n",
       "\\item 'Saudi Pro League'\n",
       "\\item 'Saudi Pro League'\n",
       "\\item 'Saudi Pro League'\n",
       "\\item 'Saudi Pro League'\n",
       "\\item 'Saudi Pro League'\n",
       "\\item 'Saudi Pro League'\n",
       "\\item 'Saudi Pro League'\n",
       "\\item 'Saudi Pro League'\n",
       "\\item 'Saudi Pro League'\n",
       "\\item 'Saudi Pro League'\n",
       "\\item 'Saudi Pro League'\n",
       "\\item 'Yelo League'\n",
       "\\item 'Saudi Pro League'\n",
       "\\item 'Yelo League'\n",
       "\\item 'Yelo League'\n",
       "\\item 'Yelo League'\n",
       "\\item 'Yelo League'\n",
       "\\item 'Yelo League'\n",
       "\\item 'Yelo League'\n",
       "\\end{enumerate*}\n"
      ],
      "text/markdown": [
       "1. 'Saudi Pro League'\n",
       "2. 'Saudi Pro League'\n",
       "3. 'Saudi Pro League'\n",
       "4. 'Saudi Pro League'\n",
       "5. 'Saudi Pro League'\n",
       "6. 'Saudi Pro League'\n",
       "7. 'Saudi Pro League'\n",
       "8. 'Saudi Pro League'\n",
       "9. 'Saudi Pro League'\n",
       "10. 'Saudi Pro League'\n",
       "11. 'Saudi Pro League'\n",
       "12. 'Saudi Pro League'\n",
       "13. 'Saudi Pro League'\n",
       "14. 'Saudi Pro League'\n",
       "15. 'Saudi Pro League'\n",
       "16. 'Saudi Pro League'\n",
       "17. 'Saudi Pro League'\n",
       "18. 'Yelo League'\n",
       "19. 'Saudi Pro League'\n",
       "20. 'Yelo League'\n",
       "21. 'Yelo League'\n",
       "22. 'Yelo League'\n",
       "23. 'Yelo League'\n",
       "24. 'Yelo League'\n",
       "25. 'Yelo League'\n",
       "\n",
       "\n"
      ],
      "text/plain": [
       " [1] \"Saudi Pro League\" \"Saudi Pro League\" \"Saudi Pro League\" \"Saudi Pro League\"\n",
       " [5] \"Saudi Pro League\" \"Saudi Pro League\" \"Saudi Pro League\" \"Saudi Pro League\"\n",
       " [9] \"Saudi Pro League\" \"Saudi Pro League\" \"Saudi Pro League\" \"Saudi Pro League\"\n",
       "[13] \"Saudi Pro League\" \"Saudi Pro League\" \"Saudi Pro League\" \"Saudi Pro League\"\n",
       "[17] \"Saudi Pro League\" \"Yelo League\"      \"Saudi Pro League\" \"Yelo League\"     \n",
       "[21] \"Yelo League\"      \"Yelo League\"      \"Yelo League\"      \"Yelo League\"     \n",
       "[25] \"Yelo League\"     "
      ]
     },
     "metadata": {},
     "output_type": "display_data"
    }
   ],
   "source": [
    "# scraping the league each club plays in. For clarification Saudi Pro League is the top division in Saudi Arabia and Yelo League\n",
    "# is the second division in Saudi Arabia\n",
    "saudi_league <- stats2 %>%\n",
    "     html_nodes(\"td.links\") %>% # selecting parts of the page \n",
    "     html_text() # this was used to parse the text from the links so only the title is shown\n",
    "saudi_league"
   ]
  },
  {
   "cell_type": "code",
   "execution_count": 13,
   "metadata": {
    "tags": []
   },
   "outputs": [
    {
     "data": {
      "text/html": [
       "<style>\n",
       ".list-inline {list-style: none; margin:0; padding: 0}\n",
       ".list-inline>li {display: inline-block}\n",
       ".list-inline>li:not(:last-child)::after {content: \"\\00b7\"; padding: 0 .5ex}\n",
       "</style>\n",
       "<ol class=list-inline><li>'€257.40m '</li><li>'€200.98m '</li><li>'€195.56m '</li><li>'€133.20m '</li><li>'€69.45m '</li><li>'€66.83m '</li><li>'€34.76m '</li><li>'€30.30m '</li><li>'€27.13m '</li><li>'€24.78m '</li><li>'€21.23m '</li><li>'€20.34m '</li><li>'€17.80m '</li><li>'€17.30m '</li><li>'€16.98m '</li><li>'€16.28m '</li><li>'€16.05m '</li><li>'€15.88m '</li><li>'€15.06m '</li><li>'€9.58m '</li><li>'€5.25m '</li><li>'€5.03m '</li><li>'€4.60m '</li><li>'€3.83m '</li><li>'€3.70m '</li></ol>\n"
      ],
      "text/latex": [
       "\\begin{enumerate*}\n",
       "\\item '€257.40m '\n",
       "\\item '€200.98m '\n",
       "\\item '€195.56m '\n",
       "\\item '€133.20m '\n",
       "\\item '€69.45m '\n",
       "\\item '€66.83m '\n",
       "\\item '€34.76m '\n",
       "\\item '€30.30m '\n",
       "\\item '€27.13m '\n",
       "\\item '€24.78m '\n",
       "\\item '€21.23m '\n",
       "\\item '€20.34m '\n",
       "\\item '€17.80m '\n",
       "\\item '€17.30m '\n",
       "\\item '€16.98m '\n",
       "\\item '€16.28m '\n",
       "\\item '€16.05m '\n",
       "\\item '€15.88m '\n",
       "\\item '€15.06m '\n",
       "\\item '€9.58m '\n",
       "\\item '€5.25m '\n",
       "\\item '€5.03m '\n",
       "\\item '€4.60m '\n",
       "\\item '€3.83m '\n",
       "\\item '€3.70m '\n",
       "\\end{enumerate*}\n"
      ],
      "text/markdown": [
       "1. '€257.40m '\n",
       "2. '€200.98m '\n",
       "3. '€195.56m '\n",
       "4. '€133.20m '\n",
       "5. '€69.45m '\n",
       "6. '€66.83m '\n",
       "7. '€34.76m '\n",
       "8. '€30.30m '\n",
       "9. '€27.13m '\n",
       "10. '€24.78m '\n",
       "11. '€21.23m '\n",
       "12. '€20.34m '\n",
       "13. '€17.80m '\n",
       "14. '€17.30m '\n",
       "15. '€16.98m '\n",
       "16. '€16.28m '\n",
       "17. '€16.05m '\n",
       "18. '€15.88m '\n",
       "19. '€15.06m '\n",
       "20. '€9.58m '\n",
       "21. '€5.25m '\n",
       "22. '€5.03m '\n",
       "23. '€4.60m '\n",
       "24. '€3.83m '\n",
       "25. '€3.70m '\n",
       "\n",
       "\n"
      ],
      "text/plain": [
       " [1] \"€257.40m \" \"€200.98m \" \"€195.56m \" \"€133.20m \" \"€69.45m \"  \"€66.83m \" \n",
       " [7] \"€34.76m \"  \"€30.30m \"  \"€27.13m \"  \"€24.78m \"  \"€21.23m \"  \"€20.34m \" \n",
       "[13] \"€17.80m \"  \"€17.30m \"  \"€16.98m \"  \"€16.28m \"  \"€16.05m \"  \"€15.88m \" \n",
       "[19] \"€15.06m \"  \"€9.58m \"   \"€5.25m \"   \"€5.03m \"   \"€4.60m \"   \"€3.83m \"  \n",
       "[25] \"€3.70m \"  "
      ]
     },
     "metadata": {},
     "output_type": "display_data"
    }
   ],
   "source": [
    "# scraping the market value of the top 25 most valuable clubs in Saudi Arabia\n",
    "saudi_market_value <- stats2 %>%\n",
    "     html_nodes(\"#yw1 td.rechts\") %>% # selecting parts of the page \n",
    "     html_text() # this was used to parse the text from the links so only the title is shown\n",
    "saudi_market_value"
   ]
  },
  {
   "cell_type": "markdown",
   "metadata": {},
   "source": [
    "### Task (b): wrangle it (5 marks)\n",
    "\n",
    "\n",
    "Working on the page from task (a), transform the data you collected into relational data model (that is, one or more data frames). WARNING: you will need to think and motivate how you are doing this in terms of the **data model** you are trying to build; just throwing everything in a table is not enough."
   ]
  },
  {
   "cell_type": "code",
   "execution_count": 14,
   "metadata": {
    "tags": [],
    "vscode": {
     "languageId": "r"
    }
   },
   "outputs": [
    {
     "data": {
      "text/html": [
       "<table class=\"dataframe\">\n",
       "<caption>A tibble: 25 × 3</caption>\n",
       "<thead>\n",
       "\t<tr><th scope=col>Club_Names</th><th scope=col>League</th><th scope=col>Market_Value</th></tr>\n",
       "\t<tr><th scope=col>&lt;chr&gt;</th><th scope=col>&lt;chr&gt;</th><th scope=col>&lt;chr&gt;</th></tr>\n",
       "</thead>\n",
       "<tbody>\n",
       "\t<tr><td>Manchester City       </td><td>Premier League</td><td>€1.18bn  </td></tr>\n",
       "\t<tr><td>Arsenal FC            </td><td>Premier League</td><td>€1.09bn  </td></tr>\n",
       "\t<tr><td>Paris Saint-Germain   </td><td>Ligue 1       </td><td>€1.03bn  </td></tr>\n",
       "\t<tr><td>Real Madrid           </td><td>LaLiga        </td><td>€991.00m </td></tr>\n",
       "\t<tr><td>Chelsea FC            </td><td>Premier League</td><td>€925.75m </td></tr>\n",
       "\t<tr><td>Bayern Munich         </td><td>Bundesliga    </td><td>€897.53m </td></tr>\n",
       "\t<tr><td>Manchester United     </td><td>Premier League</td><td>€882.30m </td></tr>\n",
       "\t<tr><td>Liverpool FC          </td><td>Premier League</td><td>€830.70m </td></tr>\n",
       "\t<tr><td>FC Barcelona          </td><td>LaLiga        </td><td>€814.30m </td></tr>\n",
       "\t<tr><td>Tottenham Hotspur     </td><td>Premier League</td><td>€689.30m </td></tr>\n",
       "\t<tr><td>Newcastle United      </td><td>Premier League</td><td>€598.00m </td></tr>\n",
       "\t<tr><td>Aston Villa           </td><td>Premier League</td><td>€597.70m </td></tr>\n",
       "\t<tr><td>SSC Napoli            </td><td>Serie A       </td><td>€577.75m </td></tr>\n",
       "\t<tr><td>AC Milan              </td><td>Serie A       </td><td>€529.15m </td></tr>\n",
       "\t<tr><td>Inter Milan           </td><td>Serie A       </td><td>€523.35m </td></tr>\n",
       "\t<tr><td>Borussia Dortmund     </td><td>Bundesliga    </td><td>€467.00m </td></tr>\n",
       "\t<tr><td>Bayer 04 Leverkusen   </td><td>Bundesliga    </td><td>€446.05m </td></tr>\n",
       "\t<tr><td>West Ham United       </td><td>Premier League</td><td>€443.15m </td></tr>\n",
       "\t<tr><td>Atlético de Madrid    </td><td>LaLiga        </td><td>€442.00m </td></tr>\n",
       "\t<tr><td>Juventus FC           </td><td>Serie A       </td><td>€433.20m </td></tr>\n",
       "\t<tr><td>RB Leipzig            </td><td>Bundesliga    </td><td>€403.10m </td></tr>\n",
       "\t<tr><td>Real Sociedad         </td><td>LaLiga        </td><td>€397.75m </td></tr>\n",
       "\t<tr><td>Nottingham Forest     </td><td>Premier League</td><td>€381.58m </td></tr>\n",
       "\t<tr><td>AS Roma               </td><td>Serie A       </td><td>€381.55m </td></tr>\n",
       "\t<tr><td>Brighton &amp; Hove Albion</td><td>Premier League</td><td>€376.30m </td></tr>\n",
       "</tbody>\n",
       "</table>\n"
      ],
      "text/latex": [
       "A tibble: 25 × 3\n",
       "\\begin{tabular}{lll}\n",
       " Club\\_Names & League & Market\\_Value\\\\\n",
       " <chr> & <chr> & <chr>\\\\\n",
       "\\hline\n",
       "\t Manchester City        & Premier League & €1.18bn  \\\\\n",
       "\t Arsenal FC             & Premier League & €1.09bn  \\\\\n",
       "\t Paris Saint-Germain    & Ligue 1        & €1.03bn  \\\\\n",
       "\t Real Madrid            & LaLiga         & €991.00m \\\\\n",
       "\t Chelsea FC             & Premier League & €925.75m \\\\\n",
       "\t Bayern Munich          & Bundesliga     & €897.53m \\\\\n",
       "\t Manchester United      & Premier League & €882.30m \\\\\n",
       "\t Liverpool FC           & Premier League & €830.70m \\\\\n",
       "\t FC Barcelona           & LaLiga         & €814.30m \\\\\n",
       "\t Tottenham Hotspur      & Premier League & €689.30m \\\\\n",
       "\t Newcastle United       & Premier League & €598.00m \\\\\n",
       "\t Aston Villa            & Premier League & €597.70m \\\\\n",
       "\t SSC Napoli             & Serie A        & €577.75m \\\\\n",
       "\t AC Milan               & Serie A        & €529.15m \\\\\n",
       "\t Inter Milan            & Serie A        & €523.35m \\\\\n",
       "\t Borussia Dortmund      & Bundesliga     & €467.00m \\\\\n",
       "\t Bayer 04 Leverkusen    & Bundesliga     & €446.05m \\\\\n",
       "\t West Ham United        & Premier League & €443.15m \\\\\n",
       "\t Atlético de Madrid     & LaLiga         & €442.00m \\\\\n",
       "\t Juventus FC            & Serie A        & €433.20m \\\\\n",
       "\t RB Leipzig             & Bundesliga     & €403.10m \\\\\n",
       "\t Real Sociedad          & LaLiga         & €397.75m \\\\\n",
       "\t Nottingham Forest      & Premier League & €381.58m \\\\\n",
       "\t AS Roma                & Serie A        & €381.55m \\\\\n",
       "\t Brighton \\& Hove Albion & Premier League & €376.30m \\\\\n",
       "\\end{tabular}\n"
      ],
      "text/markdown": [
       "\n",
       "A tibble: 25 × 3\n",
       "\n",
       "| Club_Names &lt;chr&gt; | League &lt;chr&gt; | Market_Value &lt;chr&gt; |\n",
       "|---|---|---|\n",
       "| Manchester City        | Premier League | €1.18bn   |\n",
       "| Arsenal FC             | Premier League | €1.09bn   |\n",
       "| Paris Saint-Germain    | Ligue 1        | €1.03bn   |\n",
       "| Real Madrid            | LaLiga         | €991.00m  |\n",
       "| Chelsea FC             | Premier League | €925.75m  |\n",
       "| Bayern Munich          | Bundesliga     | €897.53m  |\n",
       "| Manchester United      | Premier League | €882.30m  |\n",
       "| Liverpool FC           | Premier League | €830.70m  |\n",
       "| FC Barcelona           | LaLiga         | €814.30m  |\n",
       "| Tottenham Hotspur      | Premier League | €689.30m  |\n",
       "| Newcastle United       | Premier League | €598.00m  |\n",
       "| Aston Villa            | Premier League | €597.70m  |\n",
       "| SSC Napoli             | Serie A        | €577.75m  |\n",
       "| AC Milan               | Serie A        | €529.15m  |\n",
       "| Inter Milan            | Serie A        | €523.35m  |\n",
       "| Borussia Dortmund      | Bundesliga     | €467.00m  |\n",
       "| Bayer 04 Leverkusen    | Bundesliga     | €446.05m  |\n",
       "| West Ham United        | Premier League | €443.15m  |\n",
       "| Atlético de Madrid     | LaLiga         | €442.00m  |\n",
       "| Juventus FC            | Serie A        | €433.20m  |\n",
       "| RB Leipzig             | Bundesliga     | €403.10m  |\n",
       "| Real Sociedad          | LaLiga         | €397.75m  |\n",
       "| Nottingham Forest      | Premier League | €381.58m  |\n",
       "| AS Roma                | Serie A        | €381.55m  |\n",
       "| Brighton &amp; Hove Albion | Premier League | €376.30m  |\n",
       "\n"
      ],
      "text/plain": [
       "   Club_Names             League         Market_Value\n",
       "1  Manchester City        Premier League €1.18bn     \n",
       "2  Arsenal FC             Premier League €1.09bn     \n",
       "3  Paris Saint-Germain    Ligue 1        €1.03bn     \n",
       "4  Real Madrid            LaLiga         €991.00m    \n",
       "5  Chelsea FC             Premier League €925.75m    \n",
       "6  Bayern Munich          Bundesliga     €897.53m    \n",
       "7  Manchester United      Premier League €882.30m    \n",
       "8  Liverpool FC           Premier League €830.70m    \n",
       "9  FC Barcelona           LaLiga         €814.30m    \n",
       "10 Tottenham Hotspur      Premier League €689.30m    \n",
       "11 Newcastle United       Premier League €598.00m    \n",
       "12 Aston Villa            Premier League €597.70m    \n",
       "13 SSC Napoli             Serie A        €577.75m    \n",
       "14 AC Milan               Serie A        €529.15m    \n",
       "15 Inter Milan            Serie A        €523.35m    \n",
       "16 Borussia Dortmund      Bundesliga     €467.00m    \n",
       "17 Bayer 04 Leverkusen    Bundesliga     €446.05m    \n",
       "18 West Ham United        Premier League €443.15m    \n",
       "19 Atlético de Madrid     LaLiga         €442.00m    \n",
       "20 Juventus FC            Serie A        €433.20m    \n",
       "21 RB Leipzig             Bundesliga     €403.10m    \n",
       "22 Real Sociedad          LaLiga         €397.75m    \n",
       "23 Nottingham Forest      Premier League €381.58m    \n",
       "24 AS Roma                Serie A        €381.55m    \n",
       "25 Brighton & Hove Albion Premier League €376.30m    "
      ]
     },
     "metadata": {},
     "output_type": "display_data"
    }
   ],
   "source": [
    "# Creating a data frame that displays the top 25 most valuable clubs in the world, the league they play and the clubs market value\n",
    "most_valuable_clubs <- tibble(\n",
    "  Club_Names = club_names,\n",
    "  League = league,\n",
    "  Market_Value = market_value\n",
    ")\n",
    "most_valuable_clubs"
   ]
  },
  {
   "cell_type": "code",
   "execution_count": 15,
   "metadata": {
    "tags": []
   },
   "outputs": [
    {
     "data": {
      "text/html": [
       "<table class=\"dataframe\">\n",
       "<caption>A tibble: 25 × 3</caption>\n",
       "<thead>\n",
       "\t<tr><th scope=col>Club_Names</th><th scope=col>Saudi_League</th><th scope=col>Saudi_Market_Value</th></tr>\n",
       "\t<tr><th scope=col>&lt;chr&gt;</th><th scope=col>&lt;chr&gt;</th><th scope=col>&lt;chr&gt;</th></tr>\n",
       "</thead>\n",
       "<tbody>\n",
       "\t<tr><td>Al-Hilal SFC   </td><td>Saudi Pro League</td><td>€257.40m </td></tr>\n",
       "\t<tr><td>Al-Ahli SFC    </td><td>Saudi Pro League</td><td>€200.98m </td></tr>\n",
       "\t<tr><td>Al-Nassr FC    </td><td>Saudi Pro League</td><td>€195.56m </td></tr>\n",
       "\t<tr><td>Al-Ittihad Club</td><td>Saudi Pro League</td><td>€133.20m </td></tr>\n",
       "\t<tr><td>Al-Shabab FC   </td><td>Saudi Pro League</td><td>€69.45m  </td></tr>\n",
       "\t<tr><td>Al-Ettifaq FC  </td><td>Saudi Pro League</td><td>€66.83m  </td></tr>\n",
       "\t<tr><td>Al-Taawoun FC  </td><td>Saudi Pro League</td><td>€34.76m  </td></tr>\n",
       "\t<tr><td>Al-Fayha FC    </td><td>Saudi Pro League</td><td>€30.30m  </td></tr>\n",
       "\t<tr><td>Abha Club      </td><td>Saudi Pro League</td><td>€27.13m  </td></tr>\n",
       "\t<tr><td>Al-Fateh SC    </td><td>Saudi Pro League</td><td>€24.78m  </td></tr>\n",
       "\t<tr><td>Al-Riyadh SC   </td><td>Saudi Pro League</td><td>€21.23m  </td></tr>\n",
       "\t<tr><td>Damac FC       </td><td>Saudi Pro League</td><td>€20.34m  </td></tr>\n",
       "\t<tr><td>Al-Raed SFC    </td><td>Saudi Pro League</td><td>€17.80m  </td></tr>\n",
       "\t<tr><td>Al-Tai FC      </td><td>Saudi Pro League</td><td>€17.30m  </td></tr>\n",
       "\t<tr><td>Al-Hazem SC    </td><td>Saudi Pro League</td><td>€16.98m  </td></tr>\n",
       "\t<tr><td>Al-Okhdood Club</td><td>Saudi Pro League</td><td>€16.28m  </td></tr>\n",
       "\t<tr><td>Al-Wehda FC    </td><td>Saudi Pro League</td><td>€16.05m  </td></tr>\n",
       "\t<tr><td>Al-Qadsiah FC  </td><td>Yelo League     </td><td>€15.88m  </td></tr>\n",
       "\t<tr><td>Al-Khaleej FC  </td><td>Saudi Pro League</td><td>€15.06m  </td></tr>\n",
       "\t<tr><td>Ohod Club      </td><td>Yelo League     </td><td>€9.58m   </td></tr>\n",
       "\t<tr><td>Al-Adalah FC   </td><td>Yelo League     </td><td>€5.25m   </td></tr>\n",
       "\t<tr><td>Al-Batin FC    </td><td>Yelo League     </td><td>€5.03m   </td></tr>\n",
       "\t<tr><td>Al-Faisaly FC  </td><td>Yelo League     </td><td>€4.60m   </td></tr>\n",
       "\t<tr><td>Al-Bukiryah FC </td><td>Yelo League     </td><td>€3.83m   </td></tr>\n",
       "\t<tr><td>Al-Jabalain FC </td><td>Yelo League     </td><td>€3.70m   </td></tr>\n",
       "</tbody>\n",
       "</table>\n"
      ],
      "text/latex": [
       "A tibble: 25 × 3\n",
       "\\begin{tabular}{lll}\n",
       " Club\\_Names & Saudi\\_League & Saudi\\_Market\\_Value\\\\\n",
       " <chr> & <chr> & <chr>\\\\\n",
       "\\hline\n",
       "\t Al-Hilal SFC    & Saudi Pro League & €257.40m \\\\\n",
       "\t Al-Ahli SFC     & Saudi Pro League & €200.98m \\\\\n",
       "\t Al-Nassr FC     & Saudi Pro League & €195.56m \\\\\n",
       "\t Al-Ittihad Club & Saudi Pro League & €133.20m \\\\\n",
       "\t Al-Shabab FC    & Saudi Pro League & €69.45m  \\\\\n",
       "\t Al-Ettifaq FC   & Saudi Pro League & €66.83m  \\\\\n",
       "\t Al-Taawoun FC   & Saudi Pro League & €34.76m  \\\\\n",
       "\t Al-Fayha FC     & Saudi Pro League & €30.30m  \\\\\n",
       "\t Abha Club       & Saudi Pro League & €27.13m  \\\\\n",
       "\t Al-Fateh SC     & Saudi Pro League & €24.78m  \\\\\n",
       "\t Al-Riyadh SC    & Saudi Pro League & €21.23m  \\\\\n",
       "\t Damac FC        & Saudi Pro League & €20.34m  \\\\\n",
       "\t Al-Raed SFC     & Saudi Pro League & €17.80m  \\\\\n",
       "\t Al-Tai FC       & Saudi Pro League & €17.30m  \\\\\n",
       "\t Al-Hazem SC     & Saudi Pro League & €16.98m  \\\\\n",
       "\t Al-Okhdood Club & Saudi Pro League & €16.28m  \\\\\n",
       "\t Al-Wehda FC     & Saudi Pro League & €16.05m  \\\\\n",
       "\t Al-Qadsiah FC   & Yelo League      & €15.88m  \\\\\n",
       "\t Al-Khaleej FC   & Saudi Pro League & €15.06m  \\\\\n",
       "\t Ohod Club       & Yelo League      & €9.58m   \\\\\n",
       "\t Al-Adalah FC    & Yelo League      & €5.25m   \\\\\n",
       "\t Al-Batin FC     & Yelo League      & €5.03m   \\\\\n",
       "\t Al-Faisaly FC   & Yelo League      & €4.60m   \\\\\n",
       "\t Al-Bukiryah FC  & Yelo League      & €3.83m   \\\\\n",
       "\t Al-Jabalain FC  & Yelo League      & €3.70m   \\\\\n",
       "\\end{tabular}\n"
      ],
      "text/markdown": [
       "\n",
       "A tibble: 25 × 3\n",
       "\n",
       "| Club_Names &lt;chr&gt; | Saudi_League &lt;chr&gt; | Saudi_Market_Value &lt;chr&gt; |\n",
       "|---|---|---|\n",
       "| Al-Hilal SFC    | Saudi Pro League | €257.40m  |\n",
       "| Al-Ahli SFC     | Saudi Pro League | €200.98m  |\n",
       "| Al-Nassr FC     | Saudi Pro League | €195.56m  |\n",
       "| Al-Ittihad Club | Saudi Pro League | €133.20m  |\n",
       "| Al-Shabab FC    | Saudi Pro League | €69.45m   |\n",
       "| Al-Ettifaq FC   | Saudi Pro League | €66.83m   |\n",
       "| Al-Taawoun FC   | Saudi Pro League | €34.76m   |\n",
       "| Al-Fayha FC     | Saudi Pro League | €30.30m   |\n",
       "| Abha Club       | Saudi Pro League | €27.13m   |\n",
       "| Al-Fateh SC     | Saudi Pro League | €24.78m   |\n",
       "| Al-Riyadh SC    | Saudi Pro League | €21.23m   |\n",
       "| Damac FC        | Saudi Pro League | €20.34m   |\n",
       "| Al-Raed SFC     | Saudi Pro League | €17.80m   |\n",
       "| Al-Tai FC       | Saudi Pro League | €17.30m   |\n",
       "| Al-Hazem SC     | Saudi Pro League | €16.98m   |\n",
       "| Al-Okhdood Club | Saudi Pro League | €16.28m   |\n",
       "| Al-Wehda FC     | Saudi Pro League | €16.05m   |\n",
       "| Al-Qadsiah FC   | Yelo League      | €15.88m   |\n",
       "| Al-Khaleej FC   | Saudi Pro League | €15.06m   |\n",
       "| Ohod Club       | Yelo League      | €9.58m    |\n",
       "| Al-Adalah FC    | Yelo League      | €5.25m    |\n",
       "| Al-Batin FC     | Yelo League      | €5.03m    |\n",
       "| Al-Faisaly FC   | Yelo League      | €4.60m    |\n",
       "| Al-Bukiryah FC  | Yelo League      | €3.83m    |\n",
       "| Al-Jabalain FC  | Yelo League      | €3.70m    |\n",
       "\n"
      ],
      "text/plain": [
       "   Club_Names      Saudi_League     Saudi_Market_Value\n",
       "1  Al-Hilal SFC    Saudi Pro League €257.40m          \n",
       "2  Al-Ahli SFC     Saudi Pro League €200.98m          \n",
       "3  Al-Nassr FC     Saudi Pro League €195.56m          \n",
       "4  Al-Ittihad Club Saudi Pro League €133.20m          \n",
       "5  Al-Shabab FC    Saudi Pro League €69.45m           \n",
       "6  Al-Ettifaq FC   Saudi Pro League €66.83m           \n",
       "7  Al-Taawoun FC   Saudi Pro League €34.76m           \n",
       "8  Al-Fayha FC     Saudi Pro League €30.30m           \n",
       "9  Abha Club       Saudi Pro League €27.13m           \n",
       "10 Al-Fateh SC     Saudi Pro League €24.78m           \n",
       "11 Al-Riyadh SC    Saudi Pro League €21.23m           \n",
       "12 Damac FC        Saudi Pro League €20.34m           \n",
       "13 Al-Raed SFC     Saudi Pro League €17.80m           \n",
       "14 Al-Tai FC       Saudi Pro League €17.30m           \n",
       "15 Al-Hazem SC     Saudi Pro League €16.98m           \n",
       "16 Al-Okhdood Club Saudi Pro League €16.28m           \n",
       "17 Al-Wehda FC     Saudi Pro League €16.05m           \n",
       "18 Al-Qadsiah FC   Yelo League      €15.88m           \n",
       "19 Al-Khaleej FC   Saudi Pro League €15.06m           \n",
       "20 Ohod Club       Yelo League      €9.58m            \n",
       "21 Al-Adalah FC    Yelo League      €5.25m            \n",
       "22 Al-Batin FC     Yelo League      €5.03m            \n",
       "23 Al-Faisaly FC   Yelo League      €4.60m            \n",
       "24 Al-Bukiryah FC  Yelo League      €3.83m            \n",
       "25 Al-Jabalain FC  Yelo League      €3.70m            "
      ]
     },
     "metadata": {},
     "output_type": "display_data"
    }
   ],
   "source": [
    "# Creating a data frame that displays the top 25 most valuable clubs in Saudi Arabia, the league they play and the clubs market value\n",
    "\n",
    "most_valuable_saudi_clubs <- tibble(\n",
    "  Club_Names = saudi_clubs,\n",
    "  Saudi_League = saudi_league,\n",
    "  Saudi_Market_Value = saudi_market_value\n",
    ")\n",
    "most_valuable_saudi_clubs"
   ]
  },
  {
   "cell_type": "code",
   "execution_count": null,
   "metadata": {},
   "outputs": [],
   "source": [
    "# In Task B i created a 2 Dataframes. The first dataframe contains the club names, league and market values of the top 25 \n",
    "# in the world, the second dataframe contains the club names, leage and market values of the top 25 most valuable clubs in Saudi Arabia"
   ]
  },
  {
   "cell_type": "markdown",
   "metadata": {},
   "source": [
    "### Task (c): automate it (5 marks)\n",
    "\n",
    "Now it's the time to scrape everything else in the website. Turn your code for tasks (a) and (b) into a function and using `purrr` (and its `map_` functions, possibly in combination with `possibly`) apply that function to all the pages you are interested in (as we have done in lab 6); the output of the task should be a relation dataset (i.e., one or more dataframes, and if more than one, explicit their relationships)."
   ]
  },
  {
   "cell_type": "code",
   "execution_count": 16,
   "metadata": {
    "tags": [],
    "vscode": {
     "languageId": "r"
    }
   },
   "outputs": [],
   "source": [
    "# Created a helper function to help read all the content of the page\n",
    "scrape_page <- function(url){\n",
    "  \n",
    "  # Reading out the content of the page\n",
    "  stats <- read_html(url)\n",
    "\n",
    "  # Scraping the club names, leagues, and market values\n",
    "  club_names <- stats %>%\n",
    "    html_nodes(\"#yw1 .hauptlink\") %>%\n",
    "    html_text()\n",
    "\n",
    "  league <- stats %>%\n",
    "    html_nodes(\"td.links\") %>%\n",
    "    html_text()\n",
    "\n",
    "  market_value <- stats %>%\n",
    "    html_nodes(\"#yw1 td.rechts\") %>%\n",
    "    html_text()\n",
    "\n",
    "  # Returning the data that was scraped a a table \n",
    "  return(tibble(Club_Names = club_names, League = league, Market_Value = market_value))\n",
    "}\n"
   ]
  },
  {
   "cell_type": "code",
   "execution_count": 17,
   "metadata": {
    "tags": []
   },
   "outputs": [],
   "source": [
    "# Setting the base URL then creating a vector for the amount of pages then adjusting the URLS for each of the pages\n",
    "\n",
    "base_url <- \"https://www.transfermarkt.com/spieler-statistik/wertvollstemannschaften/marktwertetop\"\n",
    "pages <- 1:4 \n",
    "urls <- paste0(base_url, \"?page=\", pages)\n"
   ]
  },
  {
   "cell_type": "code",
   "execution_count": 18,
   "metadata": {
    "tags": []
   },
   "outputs": [
    {
     "data": {
      "text/html": [
       "<table class=\"dataframe\">\n",
       "<caption>A tibble: 100 × 3</caption>\n",
       "<thead>\n",
       "\t<tr><th scope=col>Club_Names</th><th scope=col>League</th><th scope=col>Market_Value</th></tr>\n",
       "\t<tr><th scope=col>&lt;chr&gt;</th><th scope=col>&lt;chr&gt;</th><th scope=col>&lt;chr&gt;</th></tr>\n",
       "</thead>\n",
       "<tbody>\n",
       "\t<tr><td>Manchester City       </td><td>Premier League</td><td>€1.18bn  </td></tr>\n",
       "\t<tr><td>Arsenal FC            </td><td>Premier League</td><td>€1.09bn  </td></tr>\n",
       "\t<tr><td>Paris Saint-Germain   </td><td>Ligue 1       </td><td>€1.03bn  </td></tr>\n",
       "\t<tr><td>Real Madrid           </td><td>LaLiga        </td><td>€991.00m </td></tr>\n",
       "\t<tr><td>Chelsea FC            </td><td>Premier League</td><td>€925.75m </td></tr>\n",
       "\t<tr><td>Bayern Munich         </td><td>Bundesliga    </td><td>€897.53m </td></tr>\n",
       "\t<tr><td>Manchester United     </td><td>Premier League</td><td>€882.30m </td></tr>\n",
       "\t<tr><td>Liverpool FC          </td><td>Premier League</td><td>€830.70m </td></tr>\n",
       "\t<tr><td>FC Barcelona          </td><td>LaLiga        </td><td>€814.30m </td></tr>\n",
       "\t<tr><td>Tottenham Hotspur     </td><td>Premier League</td><td>€689.30m </td></tr>\n",
       "\t<tr><td>Newcastle United      </td><td>Premier League</td><td>€598.00m </td></tr>\n",
       "\t<tr><td>Aston Villa           </td><td>Premier League</td><td>€597.70m </td></tr>\n",
       "\t<tr><td>SSC Napoli            </td><td>Serie A       </td><td>€577.75m </td></tr>\n",
       "\t<tr><td>AC Milan              </td><td>Serie A       </td><td>€529.15m </td></tr>\n",
       "\t<tr><td>Inter Milan           </td><td>Serie A       </td><td>€523.35m </td></tr>\n",
       "\t<tr><td>Borussia Dortmund     </td><td>Bundesliga    </td><td>€467.00m </td></tr>\n",
       "\t<tr><td>Bayer 04 Leverkusen   </td><td>Bundesliga    </td><td>€446.05m </td></tr>\n",
       "\t<tr><td>West Ham United       </td><td>Premier League</td><td>€443.15m </td></tr>\n",
       "\t<tr><td>Atlético de Madrid    </td><td>LaLiga        </td><td>€442.00m </td></tr>\n",
       "\t<tr><td>Juventus FC           </td><td>Serie A       </td><td>€433.20m </td></tr>\n",
       "\t<tr><td>RB Leipzig            </td><td>Bundesliga    </td><td>€403.10m </td></tr>\n",
       "\t<tr><td>Real Sociedad         </td><td>LaLiga        </td><td>€397.75m </td></tr>\n",
       "\t<tr><td>Nottingham Forest     </td><td>Premier League</td><td>€381.58m </td></tr>\n",
       "\t<tr><td>AS Roma               </td><td>Serie A       </td><td>€381.55m </td></tr>\n",
       "\t<tr><td>Brighton &amp; Hove Albion</td><td>Premier League</td><td>€376.30m </td></tr>\n",
       "\t<tr><td>Brentford FC          </td><td>Premier League</td><td>€365.00m </td></tr>\n",
       "\t<tr><td>SL Benfica            </td><td>Liga Portugal </td><td>€344.63m </td></tr>\n",
       "\t<tr><td>Everton FC            </td><td>Premier League</td><td>€339.70m </td></tr>\n",
       "\t<tr><td>AFC Bournemouth       </td><td>Premier League</td><td>€337.00m </td></tr>\n",
       "\t<tr><td>Crystal Palace        </td><td>Premier League</td><td>€333.45m </td></tr>\n",
       "\t<tr><td>⋮</td><td>⋮</td><td>⋮</td></tr>\n",
       "\t<tr><td>US Sassuolo         </td><td>Serie A           </td><td>€155.60m </td></tr>\n",
       "\t<tr><td>Zenit St. Petersburg</td><td>Premier Liga      </td><td>€153.43m </td></tr>\n",
       "\t<tr><td>TSG 1899 Hoffenheim </td><td>Bundesliga        </td><td>€151.20m </td></tr>\n",
       "\t<tr><td>Udinese Calcio      </td><td>Serie A           </td><td>€147.23m </td></tr>\n",
       "\t<tr><td>Valencia CF         </td><td>LaLiga            </td><td>€147.00m </td></tr>\n",
       "\t<tr><td>CA Osasuna          </td><td>LaLiga            </td><td>€137.30m </td></tr>\n",
       "\t<tr><td>Sheffield United    </td><td>Premier League    </td><td>€135.68m </td></tr>\n",
       "\t<tr><td>Al-Ittihad Club     </td><td>Saudi Pro League  </td><td>€133.20m </td></tr>\n",
       "\t<tr><td>Besiktas JK         </td><td>Süper Lig         </td><td>€129.78m </td></tr>\n",
       "\t<tr><td>Celtic FC           </td><td>Premiership       </td><td>€126.65m </td></tr>\n",
       "\t<tr><td>Celta de Vigo       </td><td>LaLiga            </td><td>€125.65m </td></tr>\n",
       "\t<tr><td>Trabzonspor         </td><td>Süper Lig         </td><td>€125.55m </td></tr>\n",
       "\t<tr><td>Girona FC           </td><td>LaLiga            </td><td>€125.30m </td></tr>\n",
       "\t<tr><td>Getafe CF           </td><td>LaLiga            </td><td>€125.20m </td></tr>\n",
       "\t<tr><td>SC Braga            </td><td>Liga Portugal     </td><td>€124.70m </td></tr>\n",
       "\t<tr><td>Club Brugge KV      </td><td>Jupiler Pro League</td><td>€121.45m </td></tr>\n",
       "\t<tr><td>FC Augsburg         </td><td>Bundesliga        </td><td>€120.95m </td></tr>\n",
       "\t<tr><td>VfB Stuttgart       </td><td>Bundesliga        </td><td>€116.60m </td></tr>\n",
       "\t<tr><td>1.FSV Mainz 05      </td><td>Bundesliga        </td><td>€116.15m </td></tr>\n",
       "\t<tr><td>KRC Genk            </td><td>Jupiler Pro League</td><td>€112.95m </td></tr>\n",
       "\t<tr><td>Olympiacos Piraeus  </td><td>Super League 1    </td><td>€112.60m </td></tr>\n",
       "\t<tr><td>FC Nantes           </td><td>Ligue 1           </td><td>€110.85m </td></tr>\n",
       "\t<tr><td>Shakhtar Donetsk    </td><td>Premier Liga      </td><td>€106.60m </td></tr>\n",
       "\t<tr><td>Rangers FC          </td><td>Premiership       </td><td>€104.55m </td></tr>\n",
       "\t<tr><td>Genoa CFC           </td><td>Serie A           </td><td>€102.20m </td></tr>\n",
       "\t<tr><td>RC Strasbourg Alsace</td><td>Ligue 1           </td><td>€101.95m </td></tr>\n",
       "\t<tr><td>Spartak Moscow      </td><td>Premier Liga      </td><td>€101.10m </td></tr>\n",
       "\t<tr><td>RCD Mallorca        </td><td>LaLiga            </td><td>€101.00m </td></tr>\n",
       "\t<tr><td>US Salernitana 1919 </td><td>Serie A           </td><td>€100.45m </td></tr>\n",
       "\t<tr><td>UD Almería          </td><td>LaLiga            </td><td>€99.60m  </td></tr>\n",
       "</tbody>\n",
       "</table>\n"
      ],
      "text/latex": [
       "A tibble: 100 × 3\n",
       "\\begin{tabular}{lll}\n",
       " Club\\_Names & League & Market\\_Value\\\\\n",
       " <chr> & <chr> & <chr>\\\\\n",
       "\\hline\n",
       "\t Manchester City        & Premier League & €1.18bn  \\\\\n",
       "\t Arsenal FC             & Premier League & €1.09bn  \\\\\n",
       "\t Paris Saint-Germain    & Ligue 1        & €1.03bn  \\\\\n",
       "\t Real Madrid            & LaLiga         & €991.00m \\\\\n",
       "\t Chelsea FC             & Premier League & €925.75m \\\\\n",
       "\t Bayern Munich          & Bundesliga     & €897.53m \\\\\n",
       "\t Manchester United      & Premier League & €882.30m \\\\\n",
       "\t Liverpool FC           & Premier League & €830.70m \\\\\n",
       "\t FC Barcelona           & LaLiga         & €814.30m \\\\\n",
       "\t Tottenham Hotspur      & Premier League & €689.30m \\\\\n",
       "\t Newcastle United       & Premier League & €598.00m \\\\\n",
       "\t Aston Villa            & Premier League & €597.70m \\\\\n",
       "\t SSC Napoli             & Serie A        & €577.75m \\\\\n",
       "\t AC Milan               & Serie A        & €529.15m \\\\\n",
       "\t Inter Milan            & Serie A        & €523.35m \\\\\n",
       "\t Borussia Dortmund      & Bundesliga     & €467.00m \\\\\n",
       "\t Bayer 04 Leverkusen    & Bundesliga     & €446.05m \\\\\n",
       "\t West Ham United        & Premier League & €443.15m \\\\\n",
       "\t Atlético de Madrid     & LaLiga         & €442.00m \\\\\n",
       "\t Juventus FC            & Serie A        & €433.20m \\\\\n",
       "\t RB Leipzig             & Bundesliga     & €403.10m \\\\\n",
       "\t Real Sociedad          & LaLiga         & €397.75m \\\\\n",
       "\t Nottingham Forest      & Premier League & €381.58m \\\\\n",
       "\t AS Roma                & Serie A        & €381.55m \\\\\n",
       "\t Brighton \\& Hove Albion & Premier League & €376.30m \\\\\n",
       "\t Brentford FC           & Premier League & €365.00m \\\\\n",
       "\t SL Benfica             & Liga Portugal  & €344.63m \\\\\n",
       "\t Everton FC             & Premier League & €339.70m \\\\\n",
       "\t AFC Bournemouth        & Premier League & €337.00m \\\\\n",
       "\t Crystal Palace         & Premier League & €333.45m \\\\\n",
       "\t ⋮ & ⋮ & ⋮\\\\\n",
       "\t US Sassuolo          & Serie A            & €155.60m \\\\\n",
       "\t Zenit St. Petersburg & Premier Liga       & €153.43m \\\\\n",
       "\t TSG 1899 Hoffenheim  & Bundesliga         & €151.20m \\\\\n",
       "\t Udinese Calcio       & Serie A            & €147.23m \\\\\n",
       "\t Valencia CF          & LaLiga             & €147.00m \\\\\n",
       "\t CA Osasuna           & LaLiga             & €137.30m \\\\\n",
       "\t Sheffield United     & Premier League     & €135.68m \\\\\n",
       "\t Al-Ittihad Club      & Saudi Pro League   & €133.20m \\\\\n",
       "\t Besiktas JK          & Süper Lig          & €129.78m \\\\\n",
       "\t Celtic FC            & Premiership        & €126.65m \\\\\n",
       "\t Celta de Vigo        & LaLiga             & €125.65m \\\\\n",
       "\t Trabzonspor          & Süper Lig          & €125.55m \\\\\n",
       "\t Girona FC            & LaLiga             & €125.30m \\\\\n",
       "\t Getafe CF            & LaLiga             & €125.20m \\\\\n",
       "\t SC Braga             & Liga Portugal      & €124.70m \\\\\n",
       "\t Club Brugge KV       & Jupiler Pro League & €121.45m \\\\\n",
       "\t FC Augsburg          & Bundesliga         & €120.95m \\\\\n",
       "\t VfB Stuttgart        & Bundesliga         & €116.60m \\\\\n",
       "\t 1.FSV Mainz 05       & Bundesliga         & €116.15m \\\\\n",
       "\t KRC Genk             & Jupiler Pro League & €112.95m \\\\\n",
       "\t Olympiacos Piraeus   & Super League 1     & €112.60m \\\\\n",
       "\t FC Nantes            & Ligue 1            & €110.85m \\\\\n",
       "\t Shakhtar Donetsk     & Premier Liga       & €106.60m \\\\\n",
       "\t Rangers FC           & Premiership        & €104.55m \\\\\n",
       "\t Genoa CFC            & Serie A            & €102.20m \\\\\n",
       "\t RC Strasbourg Alsace & Ligue 1            & €101.95m \\\\\n",
       "\t Spartak Moscow       & Premier Liga       & €101.10m \\\\\n",
       "\t RCD Mallorca         & LaLiga             & €101.00m \\\\\n",
       "\t US Salernitana 1919  & Serie A            & €100.45m \\\\\n",
       "\t UD Almería           & LaLiga             & €99.60m  \\\\\n",
       "\\end{tabular}\n"
      ],
      "text/markdown": [
       "\n",
       "A tibble: 100 × 3\n",
       "\n",
       "| Club_Names &lt;chr&gt; | League &lt;chr&gt; | Market_Value &lt;chr&gt; |\n",
       "|---|---|---|\n",
       "| Manchester City        | Premier League | €1.18bn   |\n",
       "| Arsenal FC             | Premier League | €1.09bn   |\n",
       "| Paris Saint-Germain    | Ligue 1        | €1.03bn   |\n",
       "| Real Madrid            | LaLiga         | €991.00m  |\n",
       "| Chelsea FC             | Premier League | €925.75m  |\n",
       "| Bayern Munich          | Bundesliga     | €897.53m  |\n",
       "| Manchester United      | Premier League | €882.30m  |\n",
       "| Liverpool FC           | Premier League | €830.70m  |\n",
       "| FC Barcelona           | LaLiga         | €814.30m  |\n",
       "| Tottenham Hotspur      | Premier League | €689.30m  |\n",
       "| Newcastle United       | Premier League | €598.00m  |\n",
       "| Aston Villa            | Premier League | €597.70m  |\n",
       "| SSC Napoli             | Serie A        | €577.75m  |\n",
       "| AC Milan               | Serie A        | €529.15m  |\n",
       "| Inter Milan            | Serie A        | €523.35m  |\n",
       "| Borussia Dortmund      | Bundesliga     | €467.00m  |\n",
       "| Bayer 04 Leverkusen    | Bundesliga     | €446.05m  |\n",
       "| West Ham United        | Premier League | €443.15m  |\n",
       "| Atlético de Madrid     | LaLiga         | €442.00m  |\n",
       "| Juventus FC            | Serie A        | €433.20m  |\n",
       "| RB Leipzig             | Bundesliga     | €403.10m  |\n",
       "| Real Sociedad          | LaLiga         | €397.75m  |\n",
       "| Nottingham Forest      | Premier League | €381.58m  |\n",
       "| AS Roma                | Serie A        | €381.55m  |\n",
       "| Brighton &amp; Hove Albion | Premier League | €376.30m  |\n",
       "| Brentford FC           | Premier League | €365.00m  |\n",
       "| SL Benfica             | Liga Portugal  | €344.63m  |\n",
       "| Everton FC             | Premier League | €339.70m  |\n",
       "| AFC Bournemouth        | Premier League | €337.00m  |\n",
       "| Crystal Palace         | Premier League | €333.45m  |\n",
       "| ⋮ | ⋮ | ⋮ |\n",
       "| US Sassuolo          | Serie A            | €155.60m  |\n",
       "| Zenit St. Petersburg | Premier Liga       | €153.43m  |\n",
       "| TSG 1899 Hoffenheim  | Bundesliga         | €151.20m  |\n",
       "| Udinese Calcio       | Serie A            | €147.23m  |\n",
       "| Valencia CF          | LaLiga             | €147.00m  |\n",
       "| CA Osasuna           | LaLiga             | €137.30m  |\n",
       "| Sheffield United     | Premier League     | €135.68m  |\n",
       "| Al-Ittihad Club      | Saudi Pro League   | €133.20m  |\n",
       "| Besiktas JK          | Süper Lig          | €129.78m  |\n",
       "| Celtic FC            | Premiership        | €126.65m  |\n",
       "| Celta de Vigo        | LaLiga             | €125.65m  |\n",
       "| Trabzonspor          | Süper Lig          | €125.55m  |\n",
       "| Girona FC            | LaLiga             | €125.30m  |\n",
       "| Getafe CF            | LaLiga             | €125.20m  |\n",
       "| SC Braga             | Liga Portugal      | €124.70m  |\n",
       "| Club Brugge KV       | Jupiler Pro League | €121.45m  |\n",
       "| FC Augsburg          | Bundesliga         | €120.95m  |\n",
       "| VfB Stuttgart        | Bundesliga         | €116.60m  |\n",
       "| 1.FSV Mainz 05       | Bundesliga         | €116.15m  |\n",
       "| KRC Genk             | Jupiler Pro League | €112.95m  |\n",
       "| Olympiacos Piraeus   | Super League 1     | €112.60m  |\n",
       "| FC Nantes            | Ligue 1            | €110.85m  |\n",
       "| Shakhtar Donetsk     | Premier Liga       | €106.60m  |\n",
       "| Rangers FC           | Premiership        | €104.55m  |\n",
       "| Genoa CFC            | Serie A            | €102.20m  |\n",
       "| RC Strasbourg Alsace | Ligue 1            | €101.95m  |\n",
       "| Spartak Moscow       | Premier Liga       | €101.10m  |\n",
       "| RCD Mallorca         | LaLiga             | €101.00m  |\n",
       "| US Salernitana 1919  | Serie A            | €100.45m  |\n",
       "| UD Almería           | LaLiga             | €99.60m   |\n",
       "\n"
      ],
      "text/plain": [
       "    Club_Names             League             Market_Value\n",
       "1   Manchester City        Premier League     €1.18bn     \n",
       "2   Arsenal FC             Premier League     €1.09bn     \n",
       "3   Paris Saint-Germain    Ligue 1            €1.03bn     \n",
       "4   Real Madrid            LaLiga             €991.00m    \n",
       "5   Chelsea FC             Premier League     €925.75m    \n",
       "6   Bayern Munich          Bundesliga         €897.53m    \n",
       "7   Manchester United      Premier League     €882.30m    \n",
       "8   Liverpool FC           Premier League     €830.70m    \n",
       "9   FC Barcelona           LaLiga             €814.30m    \n",
       "10  Tottenham Hotspur      Premier League     €689.30m    \n",
       "11  Newcastle United       Premier League     €598.00m    \n",
       "12  Aston Villa            Premier League     €597.70m    \n",
       "13  SSC Napoli             Serie A            €577.75m    \n",
       "14  AC Milan               Serie A            €529.15m    \n",
       "15  Inter Milan            Serie A            €523.35m    \n",
       "16  Borussia Dortmund      Bundesliga         €467.00m    \n",
       "17  Bayer 04 Leverkusen    Bundesliga         €446.05m    \n",
       "18  West Ham United        Premier League     €443.15m    \n",
       "19  Atlético de Madrid     LaLiga             €442.00m    \n",
       "20  Juventus FC            Serie A            €433.20m    \n",
       "21  RB Leipzig             Bundesliga         €403.10m    \n",
       "22  Real Sociedad          LaLiga             €397.75m    \n",
       "23  Nottingham Forest      Premier League     €381.58m    \n",
       "24  AS Roma                Serie A            €381.55m    \n",
       "25  Brighton & Hove Albion Premier League     €376.30m    \n",
       "26  Brentford FC           Premier League     €365.00m    \n",
       "27  SL Benfica             Liga Portugal      €344.63m    \n",
       "28  Everton FC             Premier League     €339.70m    \n",
       "29  AFC Bournemouth        Premier League     €337.00m    \n",
       "30  Crystal Palace         Premier League     €333.45m    \n",
       "⋮   ⋮                      ⋮                  ⋮           \n",
       "71  US Sassuolo            Serie A            €155.60m    \n",
       "72  Zenit St. Petersburg   Premier Liga       €153.43m    \n",
       "73  TSG 1899 Hoffenheim    Bundesliga         €151.20m    \n",
       "74  Udinese Calcio         Serie A            €147.23m    \n",
       "75  Valencia CF            LaLiga             €147.00m    \n",
       "76  CA Osasuna             LaLiga             €137.30m    \n",
       "77  Sheffield United       Premier League     €135.68m    \n",
       "78  Al-Ittihad Club        Saudi Pro League   €133.20m    \n",
       "79  Besiktas JK            Süper Lig          €129.78m    \n",
       "80  Celtic FC              Premiership        €126.65m    \n",
       "81  Celta de Vigo          LaLiga             €125.65m    \n",
       "82  Trabzonspor            Süper Lig          €125.55m    \n",
       "83  Girona FC              LaLiga             €125.30m    \n",
       "84  Getafe CF              LaLiga             €125.20m    \n",
       "85  SC Braga               Liga Portugal      €124.70m    \n",
       "86  Club Brugge KV         Jupiler Pro League €121.45m    \n",
       "87  FC Augsburg            Bundesliga         €120.95m    \n",
       "88  VfB Stuttgart          Bundesliga         €116.60m    \n",
       "89  1.FSV Mainz 05         Bundesliga         €116.15m    \n",
       "90  KRC Genk               Jupiler Pro League €112.95m    \n",
       "91  Olympiacos Piraeus     Super League 1     €112.60m    \n",
       "92  FC Nantes              Ligue 1            €110.85m    \n",
       "93  Shakhtar Donetsk       Premier Liga       €106.60m    \n",
       "94  Rangers FC             Premiership        €104.55m    \n",
       "95  Genoa CFC              Serie A            €102.20m    \n",
       "96  RC Strasbourg Alsace   Ligue 1            €101.95m    \n",
       "97  Spartak Moscow         Premier Liga       €101.10m    \n",
       "98  RCD Mallorca           LaLiga             €101.00m    \n",
       "99  US Salernitana 1919    Serie A            €100.45m    \n",
       "100 UD Almería             LaLiga             €99.60m     "
      ]
     },
     "metadata": {},
     "output_type": "display_data"
    }
   ],
   "source": [
    "# Using purrr to scrape all pages and bind them together then creating a table of all the pages combined\n",
    "all_clubs <- urls %>% \n",
    "  map_df(~ possibly(scrape_page, otherwise = tibble(Club_Names = character(0), League = character(0), Market_Value = character(0)))(.))\n",
    "all_clubs"
   ]
  },
  {
   "cell_type": "code",
   "execution_count": 19,
   "metadata": {
    "tags": []
   },
   "outputs": [],
   "source": [
    "# Define a function to scrape club information from Saudi Arabia\n",
    "scrape_saudi_page <- function(url){\n",
    "  \n",
    "  # Reading out the content of the page\n",
    "  stats <- read_html(url2)\n",
    "\n",
    "  # Scrape club names, leagues, and market values for Saudi Arabia\n",
    "  saudi_clubs <- stats %>%\n",
    "    html_nodes(\"#yw1 .hauptlink\") %>%\n",
    "    html_text()\n",
    "\n",
    "  saudi_league <- stats %>%\n",
    "    html_nodes(\"td.links\") %>%\n",
    "    html_text()\n",
    "\n",
    "  saudi_market_value <- stats %>%\n",
    "    html_nodes(\"#yw1 td.rechts\") %>%\n",
    "    html_text()\n",
    "\n",
    "  # Return as a tibble\n",
    "  return(tibble(Club_Names = saudi_clubs, Saudi_League = saudi_league, Saudi_Market_Value = saudi_market_value))\n",
    "}"
   ]
  },
  {
   "cell_type": "code",
   "execution_count": 20,
   "metadata": {
    "tags": []
   },
   "outputs": [],
   "source": [
    "# Setting the base URL then creating a vector for the amount of pages then adjusting the URLS for each of the pages\n",
    "base_url_saudi <- \"https://www.transfermarkt.com/vereins-statistik/wertvollstemannschaften/marktwertetop/plus/0/galerie/0?land_id=146&kontinent_id=1&yt0=Show\"\n",
    "pages_saudi <- 1:4\n",
    "urls_saudi <- paste0(base_url_saudi, \"&page=\", pages_saudi)"
   ]
  },
  {
   "cell_type": "code",
   "execution_count": 21,
   "metadata": {
    "tags": []
   },
   "outputs": [
    {
     "data": {
      "text/html": [
       "<table class=\"dataframe\">\n",
       "<caption>A tibble: 25 × 3</caption>\n",
       "<thead>\n",
       "\t<tr><th scope=col>Club_Names</th><th scope=col>Saudi_League</th><th scope=col>Saudi_Market_Value</th></tr>\n",
       "\t<tr><th scope=col>&lt;chr&gt;</th><th scope=col>&lt;chr&gt;</th><th scope=col>&lt;chr&gt;</th></tr>\n",
       "</thead>\n",
       "<tbody>\n",
       "\t<tr><td>Al-Hilal SFC   </td><td>Saudi Pro League</td><td>€257.40m </td></tr>\n",
       "\t<tr><td>Al-Ahli SFC    </td><td>Saudi Pro League</td><td>€200.98m </td></tr>\n",
       "\t<tr><td>Al-Nassr FC    </td><td>Saudi Pro League</td><td>€195.56m </td></tr>\n",
       "\t<tr><td>Al-Ittihad Club</td><td>Saudi Pro League</td><td>€133.20m </td></tr>\n",
       "\t<tr><td>Al-Shabab FC   </td><td>Saudi Pro League</td><td>€69.45m  </td></tr>\n",
       "\t<tr><td>Al-Ettifaq FC  </td><td>Saudi Pro League</td><td>€66.83m  </td></tr>\n",
       "\t<tr><td>Al-Taawoun FC  </td><td>Saudi Pro League</td><td>€34.76m  </td></tr>\n",
       "\t<tr><td>Al-Fayha FC    </td><td>Saudi Pro League</td><td>€30.30m  </td></tr>\n",
       "\t<tr><td>Abha Club      </td><td>Saudi Pro League</td><td>€27.13m  </td></tr>\n",
       "\t<tr><td>Al-Fateh SC    </td><td>Saudi Pro League</td><td>€24.78m  </td></tr>\n",
       "\t<tr><td>Al-Riyadh SC   </td><td>Saudi Pro League</td><td>€21.23m  </td></tr>\n",
       "\t<tr><td>Damac FC       </td><td>Saudi Pro League</td><td>€20.34m  </td></tr>\n",
       "\t<tr><td>Al-Raed SFC    </td><td>Saudi Pro League</td><td>€17.80m  </td></tr>\n",
       "\t<tr><td>Al-Tai FC      </td><td>Saudi Pro League</td><td>€17.30m  </td></tr>\n",
       "\t<tr><td>Al-Hazem SC    </td><td>Saudi Pro League</td><td>€16.98m  </td></tr>\n",
       "\t<tr><td>Al-Okhdood Club</td><td>Saudi Pro League</td><td>€16.28m  </td></tr>\n",
       "\t<tr><td>Al-Wehda FC    </td><td>Saudi Pro League</td><td>€16.05m  </td></tr>\n",
       "\t<tr><td>Al-Qadsiah FC  </td><td>Yelo League     </td><td>€15.88m  </td></tr>\n",
       "\t<tr><td>Al-Khaleej FC  </td><td>Saudi Pro League</td><td>€15.06m  </td></tr>\n",
       "\t<tr><td>Ohod Club      </td><td>Yelo League     </td><td>€9.58m   </td></tr>\n",
       "\t<tr><td>Al-Adalah FC   </td><td>Yelo League     </td><td>€5.25m   </td></tr>\n",
       "\t<tr><td>Al-Batin FC    </td><td>Yelo League     </td><td>€5.03m   </td></tr>\n",
       "\t<tr><td>Al-Faisaly FC  </td><td>Yelo League     </td><td>€4.60m   </td></tr>\n",
       "\t<tr><td>Al-Bukiryah FC </td><td>Yelo League     </td><td>€3.83m   </td></tr>\n",
       "\t<tr><td>Al-Jabalain FC </td><td>Yelo League     </td><td>€3.70m   </td></tr>\n",
       "</tbody>\n",
       "</table>\n"
      ],
      "text/latex": [
       "A tibble: 25 × 3\n",
       "\\begin{tabular}{lll}\n",
       " Club\\_Names & Saudi\\_League & Saudi\\_Market\\_Value\\\\\n",
       " <chr> & <chr> & <chr>\\\\\n",
       "\\hline\n",
       "\t Al-Hilal SFC    & Saudi Pro League & €257.40m \\\\\n",
       "\t Al-Ahli SFC     & Saudi Pro League & €200.98m \\\\\n",
       "\t Al-Nassr FC     & Saudi Pro League & €195.56m \\\\\n",
       "\t Al-Ittihad Club & Saudi Pro League & €133.20m \\\\\n",
       "\t Al-Shabab FC    & Saudi Pro League & €69.45m  \\\\\n",
       "\t Al-Ettifaq FC   & Saudi Pro League & €66.83m  \\\\\n",
       "\t Al-Taawoun FC   & Saudi Pro League & €34.76m  \\\\\n",
       "\t Al-Fayha FC     & Saudi Pro League & €30.30m  \\\\\n",
       "\t Abha Club       & Saudi Pro League & €27.13m  \\\\\n",
       "\t Al-Fateh SC     & Saudi Pro League & €24.78m  \\\\\n",
       "\t Al-Riyadh SC    & Saudi Pro League & €21.23m  \\\\\n",
       "\t Damac FC        & Saudi Pro League & €20.34m  \\\\\n",
       "\t Al-Raed SFC     & Saudi Pro League & €17.80m  \\\\\n",
       "\t Al-Tai FC       & Saudi Pro League & €17.30m  \\\\\n",
       "\t Al-Hazem SC     & Saudi Pro League & €16.98m  \\\\\n",
       "\t Al-Okhdood Club & Saudi Pro League & €16.28m  \\\\\n",
       "\t Al-Wehda FC     & Saudi Pro League & €16.05m  \\\\\n",
       "\t Al-Qadsiah FC   & Yelo League      & €15.88m  \\\\\n",
       "\t Al-Khaleej FC   & Saudi Pro League & €15.06m  \\\\\n",
       "\t Ohod Club       & Yelo League      & €9.58m   \\\\\n",
       "\t Al-Adalah FC    & Yelo League      & €5.25m   \\\\\n",
       "\t Al-Batin FC     & Yelo League      & €5.03m   \\\\\n",
       "\t Al-Faisaly FC   & Yelo League      & €4.60m   \\\\\n",
       "\t Al-Bukiryah FC  & Yelo League      & €3.83m   \\\\\n",
       "\t Al-Jabalain FC  & Yelo League      & €3.70m   \\\\\n",
       "\\end{tabular}\n"
      ],
      "text/markdown": [
       "\n",
       "A tibble: 25 × 3\n",
       "\n",
       "| Club_Names &lt;chr&gt; | Saudi_League &lt;chr&gt; | Saudi_Market_Value &lt;chr&gt; |\n",
       "|---|---|---|\n",
       "| Al-Hilal SFC    | Saudi Pro League | €257.40m  |\n",
       "| Al-Ahli SFC     | Saudi Pro League | €200.98m  |\n",
       "| Al-Nassr FC     | Saudi Pro League | €195.56m  |\n",
       "| Al-Ittihad Club | Saudi Pro League | €133.20m  |\n",
       "| Al-Shabab FC    | Saudi Pro League | €69.45m   |\n",
       "| Al-Ettifaq FC   | Saudi Pro League | €66.83m   |\n",
       "| Al-Taawoun FC   | Saudi Pro League | €34.76m   |\n",
       "| Al-Fayha FC     | Saudi Pro League | €30.30m   |\n",
       "| Abha Club       | Saudi Pro League | €27.13m   |\n",
       "| Al-Fateh SC     | Saudi Pro League | €24.78m   |\n",
       "| Al-Riyadh SC    | Saudi Pro League | €21.23m   |\n",
       "| Damac FC        | Saudi Pro League | €20.34m   |\n",
       "| Al-Raed SFC     | Saudi Pro League | €17.80m   |\n",
       "| Al-Tai FC       | Saudi Pro League | €17.30m   |\n",
       "| Al-Hazem SC     | Saudi Pro League | €16.98m   |\n",
       "| Al-Okhdood Club | Saudi Pro League | €16.28m   |\n",
       "| Al-Wehda FC     | Saudi Pro League | €16.05m   |\n",
       "| Al-Qadsiah FC   | Yelo League      | €15.88m   |\n",
       "| Al-Khaleej FC   | Saudi Pro League | €15.06m   |\n",
       "| Ohod Club       | Yelo League      | €9.58m    |\n",
       "| Al-Adalah FC    | Yelo League      | €5.25m    |\n",
       "| Al-Batin FC     | Yelo League      | €5.03m    |\n",
       "| Al-Faisaly FC   | Yelo League      | €4.60m    |\n",
       "| Al-Bukiryah FC  | Yelo League      | €3.83m    |\n",
       "| Al-Jabalain FC  | Yelo League      | €3.70m    |\n",
       "\n"
      ],
      "text/plain": [
       "   Club_Names      Saudi_League     Saudi_Market_Value\n",
       "1  Al-Hilal SFC    Saudi Pro League €257.40m          \n",
       "2  Al-Ahli SFC     Saudi Pro League €200.98m          \n",
       "3  Al-Nassr FC     Saudi Pro League €195.56m          \n",
       "4  Al-Ittihad Club Saudi Pro League €133.20m          \n",
       "5  Al-Shabab FC    Saudi Pro League €69.45m           \n",
       "6  Al-Ettifaq FC   Saudi Pro League €66.83m           \n",
       "7  Al-Taawoun FC   Saudi Pro League €34.76m           \n",
       "8  Al-Fayha FC     Saudi Pro League €30.30m           \n",
       "9  Abha Club       Saudi Pro League €27.13m           \n",
       "10 Al-Fateh SC     Saudi Pro League €24.78m           \n",
       "11 Al-Riyadh SC    Saudi Pro League €21.23m           \n",
       "12 Damac FC        Saudi Pro League €20.34m           \n",
       "13 Al-Raed SFC     Saudi Pro League €17.80m           \n",
       "14 Al-Tai FC       Saudi Pro League €17.30m           \n",
       "15 Al-Hazem SC     Saudi Pro League €16.98m           \n",
       "16 Al-Okhdood Club Saudi Pro League €16.28m           \n",
       "17 Al-Wehda FC     Saudi Pro League €16.05m           \n",
       "18 Al-Qadsiah FC   Yelo League      €15.88m           \n",
       "19 Al-Khaleej FC   Saudi Pro League €15.06m           \n",
       "20 Ohod Club       Yelo League      €9.58m            \n",
       "21 Al-Adalah FC    Yelo League      €5.25m            \n",
       "22 Al-Batin FC     Yelo League      €5.03m            \n",
       "23 Al-Faisaly FC   Yelo League      €4.60m            \n",
       "24 Al-Bukiryah FC  Yelo League      €3.83m            \n",
       "25 Al-Jabalain FC  Yelo League      €3.70m            "
      ]
     },
     "metadata": {},
     "output_type": "display_data"
    }
   ],
   "source": [
    "# Using purrr to scrape all pages and bind them together then creating a table of all the pages combined\n",
    "\n",
    "all_saudi_clubs <- urls_saudi %>% \n",
    "  map_df(~ possibly(scrape_saudi_page, otherwise = tibble(Club_Names = character(0), Saudi_League = character(0), Saudi_Market_Value = character(0)))(.))\n",
    "\n",
    "# Using the distinct function because there would be duplicated clubs if i didnt as there was a problem with the site URL \n",
    "# when updating the new pages\n",
    "all_saudi_clubs <- all_saudi_clubs %>% \n",
    "    distinct(Club_Names, .keep_all = TRUE) \n",
    "# found how to use the distinct function which was used to stop duplicated entries into the table from https://www.datanovia.com/\n",
    "\n",
    "all_saudi_clubs"
   ]
  },
  {
   "cell_type": "code",
   "execution_count": null,
   "metadata": {},
   "outputs": [],
   "source": [
    "# In this task i automated and scraped all the pages under both URLS that had the 25 most valuable clubs in the world and the \n",
    "# 25 most clubs in Saudi Arabia, however when doing this task for the Saudi Teams i encountered a problem as it the pages would\n",
    "# not be updating correctly, so i could only plot the top 25 clubs and not the other 75 saudi clubs. So i used the distinct \n",
    "# function to stop the clubs duplicating"
   ]
  },
  {
   "cell_type": "markdown",
   "metadata": {},
   "source": [
    "### Task (d): plot it (2 marks)\n",
    "\n",
    "Use graphics (via `ggplot`) to represent the data you collected in a meaningful way."
   ]
  },
  {
   "cell_type": "code",
   "execution_count": 22,
   "metadata": {
    "tags": [],
    "vscode": {
     "languageId": "r"
    }
   },
   "outputs": [
    {
     "data": {
      "image/png": "[encoded data removed]",
      "text/plain": [
       "plot without title"
      ]
     },
     "metadata": {
      "image/png": {
       "height": 420,
       "width": 420
      }
     },
     "output_type": "display_data"
    }
   ],
   "source": [
    "#Plotting the number of each of the most valuable clubs in the world and what league they play in\n",
    "\n",
    "league_counts <- most_valuable_clubs %>% count(League)\n",
    "\n",
    "ggplot(league_counts, aes(x=reorder(League, n), y=n)) +\n",
    "  geom_bar(stat=\"identity\") +\n",
    "  coord_flip() +\n",
    "  labs(title=\"Number of Most Valuable Clubs per League\",\n",
    "       x=\"League\",\n",
    "       y=\"Number of Clubs\") +\n",
    "  theme_minimal()"
   ]
  },
  {
   "cell_type": "code",
   "execution_count": 23,
   "metadata": {
    "tags": []
   },
   "outputs": [
    {
     "data": {
      "image/png": "[encoded data removed]",
      "text/plain": [
       "plot without title"
      ]
     },
     "metadata": {
      "image/png": {
       "height": 420,
       "width": 420
      }
     },
     "output_type": "display_data"
    }
   ],
   "source": [
    "#Plotting the number of each of the most valuable clubs in Saudi Arabia and what league they play in\n",
    "\n",
    "saudi_league_counts <- most_valuable_saudi_clubs %>% count(Saudi_League)\n",
    "\n",
    "ggplot(saudi_league_counts, aes(x=reorder(Saudi_League, n), y=n)) +\n",
    "  geom_bar(stat=\"identity\") +\n",
    "  coord_flip() +\n",
    "  labs(title=\"Number Of Most Valuable Clubs In Saudi Arabia Per League\",\n",
    "       x=\"League\",\n",
    "       y=\"Number of Clubs\") +\n",
    "  theme_minimal()"
   ]
  },
  {
   "cell_type": "code",
   "execution_count": 24,
   "metadata": {
    "tags": []
   },
   "outputs": [
    {
     "data": {
      "image/png": "[encoded data removed]",
      "text/plain": [
       "plot without title"
      ]
     },
     "metadata": {
      "image/png": {
       "height": 420,
       "width": 420
      }
     },
     "output_type": "display_data"
    }
   ],
   "source": [
    "# Combining the data frames to create a combined plot of the previous 2 plots\n",
    "saudi_league_counts <- saudi_league_counts %>% mutate(Source = \"Saudi Arabia\")\n",
    "league_counts <- league_counts %>% rename(Saudi_League = League) %>% mutate(Source = \"Worldwide\")\n",
    "\n",
    "combined_counts <- bind_rows(saudi_league_counts, league_counts)\n",
    "\n",
    "# Plotting the combined data\n",
    "ggplot(combined_counts, aes(x=reorder(Saudi_League, n), y=n)) +\n",
    "  geom_bar(stat=\"identity\") +\n",
    "  coord_flip() +\n",
    "  labs(title=\"Number of Most Valuable Clubs per League\",\n",
    "       x=\"League\",\n",
    "       y=\"Number of Clubs\") +\n",
    "  theme_minimal() +\n",
    "  facet_grid(~ Source, scales = \"free\", space = \"free\")"
   ]
  },
  {
   "cell_type": "code",
   "execution_count": 25,
   "metadata": {
    "tags": []
   },
   "outputs": [],
   "source": [
    "# In this task i plotted the data of top 25 most valuable clubs in the world and what league they play in, the plot shows us that\n",
    "# majority of the most valuable clubs play in the Premier League, with Serie A behind and the Bundelsiga and La Liga closely follow\n",
    "# with Ligue 1 having the least, the second plot i did was plotting the most valuable clubs in Saudi Arabia and what league they play\n",
    "# and the plot shows that most clubs Saudi Pro League which is the first division in Saudi Arabia. Yelo League has some in the top 25 \n",
    "# nothing compared the Saudi Pro League. The third graphs tells what we previously knew but is just combining the graphs.\n",
    "# Finally, i tried plotting the market values of the top 25 clubs in the world and the top 25 in Saudi Arabia which was the main \n",
    "# idea of the project but struggled as all values were different wiht millions and billions and i just couldnt get the\n",
    "# correct formatting unfortunately :(."
   ]
  },
  {
   "cell_type": "markdown",
   "metadata": {},
   "source": [
    "### Task (e): APIs (2 marks)\n",
    "\n",
    "Identify a web service offering data through an API. Access the API using `httr` and collect the information you care about. Convert the data into a dataframe (or more than one). Represent it graphically in a meaningful way."
   ]
  },
  {
   "cell_type": "code",
   "execution_count": 37,
   "metadata": {
    "tags": [],
    "vscode": {
     "languageId": "r"
    }
   },
   "outputs": [],
   "source": [
    "# Grabbing the endpoint to access the list of all the public APIs.\n",
    "# Placeholder url that has the entries\n",
    "ap_endpoint <- \"/random\"\n",
    "api_url_placeholder <- \"https://api.publicapis.org{ap_endpoint}\""
   ]
  },
  {
   "cell_type": "code",
   "execution_count": 38,
   "metadata": {
    "tags": []
   },
   "outputs": [
    {
     "data": {
      "text/html": [
       "'https://api.publicapis.org/random'"
      ],
      "text/latex": [
       "'https://api.publicapis.org/random'"
      ],
      "text/markdown": [
       "'https://api.publicapis.org/random'"
      ],
      "text/plain": [
       "https://api.publicapis.org/random"
      ]
     },
     "metadata": {},
     "output_type": "display_data"
    }
   ],
   "source": [
    "# Creating all the URLS that allows us to access all the public APIs.\n",
    "api_url <- glue(api_url_placeholder)\n",
    "api_url"
   ]
  },
  {
   "cell_type": "code",
   "execution_count": 39,
   "metadata": {
    "tags": []
   },
   "outputs": [],
   "source": [
    "library(httr) # loading this library so i can access and print information about the APIS"
   ]
  },
  {
   "cell_type": "code",
   "execution_count": 40,
   "metadata": {
    "tags": []
   },
   "outputs": [
    {
     "data": {
      "text/plain": [
       "Response [https://api.publicapis.org/random]\n",
       "  Date: 2023-09-28 02:09\n",
       "  Status: 200\n",
       "  Content-Type: application/json\n",
       "  Size: 212 B\n",
       "{\"count\":1,\"entries\":[{\"API\":\"apilayer userstack\",\"Description\":\"Secure User-..."
      ]
     },
     "metadata": {},
     "output_type": "display_data"
    }
   ],
   "source": [
    "# Printing out some information about all the APIS\n",
    "api <- GET(api_url)\n",
    "api"
   ]
  },
  {
   "cell_type": "code",
   "execution_count": 41,
   "metadata": {
    "tags": []
   },
   "outputs": [
    {
     "data": {
      "text/html": [
       "'{\"count\":1,\"entries\":[{\"API\":\"apilayer userstack\",\"Description\":\"Secure User-Agent String Lookup JSON API\",\"Auth\":\"OAuth\",\"HTTPS\":true,\"Cors\":\"unknown\",\"Link\":\"https://userstack.com/\",\"Category\":\"Development\"}]}\\n'"
      ],
      "text/latex": [
       "'\\{\"count\":1,\"entries\":{[}\\{\"API\":\"apilayer userstack\",\"Description\":\"Secure User-Agent String Lookup JSON API\",\"Auth\":\"OAuth\",\"HTTPS\":true,\"Cors\":\"unknown\",\"Link\":\"https://userstack.com/\",\"Category\":\"Development\"\\}{]}\\}\\textbackslash{}n'"
      ],
      "text/markdown": [
       "'{\"count\":1,\"entries\":[{\"API\":\"apilayer userstack\",\"Description\":\"Secure User-Agent String Lookup JSON API\",\"Auth\":\"OAuth\",\"HTTPS\":true,\"Cors\":\"unknown\",\"Link\":\"https://userstack.com/\",\"Category\":\"Development\"}]}\\n'"
      ],
      "text/plain": [
       "[1] \"{\\\"count\\\":1,\\\"entries\\\":[{\\\"API\\\":\\\"apilayer userstack\\\",\\\"Description\\\":\\\"Secure User-Agent String Lookup JSON API\\\",\\\"Auth\\\":\\\"OAuth\\\",\\\"HTTPS\\\":true,\\\"Cors\\\":\\\"unknown\\\",\\\"Link\\\":\\\"https://userstack.com/\\\",\\\"Category\\\":\\\"Development\\\"}]}\\n\""
      ]
     },
     "metadata": {},
     "output_type": "display_data"
    }
   ],
   "source": [
    "# Accessing the content of the previous request and displaing all the raw data inside .\n",
    "api_content <- api %>% \n",
    "    content(\"text\", encoding = \"UTF-8\")\n",
    "api_content"
   ]
  },
  {
   "cell_type": "code",
   "execution_count": 42,
   "metadata": {
    "tags": []
   },
   "outputs": [
    {
     "data": {
      "text/html": [
       "<dl>\n",
       "\t<dt>$count</dt>\n",
       "\t\t<dd>1</dd>\n",
       "\t<dt>$entries</dt>\n",
       "\t\t<dd><table class=\"dataframe\">\n",
       "<caption>A data.frame: 1 × 7</caption>\n",
       "<thead>\n",
       "\t<tr><th></th><th scope=col>API</th><th scope=col>Description</th><th scope=col>Auth</th><th scope=col>HTTPS</th><th scope=col>Cors</th><th scope=col>Link</th><th scope=col>Category</th></tr>\n",
       "\t<tr><th></th><th scope=col>&lt;chr&gt;</th><th scope=col>&lt;chr&gt;</th><th scope=col>&lt;chr&gt;</th><th scope=col>&lt;lgl&gt;</th><th scope=col>&lt;chr&gt;</th><th scope=col>&lt;chr&gt;</th><th scope=col>&lt;chr&gt;</th></tr>\n",
       "</thead>\n",
       "<tbody>\n",
       "\t<tr><th scope=row>1</th><td>apilayer userstack</td><td>Secure User-Agent String Lookup JSON API</td><td>OAuth</td><td>TRUE</td><td>unknown</td><td>https://userstack.com/</td><td>Development</td></tr>\n",
       "</tbody>\n",
       "</table>\n",
       "</dd>\n",
       "</dl>\n"
      ],
      "text/latex": [
       "\\begin{description}\n",
       "\\item[\\$count] 1\n",
       "\\item[\\$entries] A data.frame: 1 × 7\n",
       "\\begin{tabular}{r|lllllll}\n",
       "  & API & Description & Auth & HTTPS & Cors & Link & Category\\\\\n",
       "  & <chr> & <chr> & <chr> & <lgl> & <chr> & <chr> & <chr>\\\\\n",
       "\\hline\n",
       "\t1 & apilayer userstack & Secure User-Agent String Lookup JSON API & OAuth & TRUE & unknown & https://userstack.com/ & Development\\\\\n",
       "\\end{tabular}\n",
       "\n",
       "\\end{description}\n"
      ],
      "text/markdown": [
       "$count\n",
       ":   1\n",
       "$entries\n",
       ":   \n",
       "A data.frame: 1 × 7\n",
       "\n",
       "| <!--/--> | API &lt;chr&gt; | Description &lt;chr&gt; | Auth &lt;chr&gt; | HTTPS &lt;lgl&gt; | Cors &lt;chr&gt; | Link &lt;chr&gt; | Category &lt;chr&gt; |\n",
       "|---|---|---|---|---|---|---|---|\n",
       "| 1 | apilayer userstack | Secure User-Agent String Lookup JSON API | OAuth | TRUE | unknown | https://userstack.com/ | Development |\n",
       "\n",
       "\n",
       "\n",
       "\n"
      ],
      "text/plain": [
       "$count\n",
       "[1] 1\n",
       "\n",
       "$entries\n",
       "                 API                              Description  Auth HTTPS\n",
       "1 apilayer userstack Secure User-Agent String Lookup JSON API OAuth  TRUE\n",
       "     Cors                   Link    Category\n",
       "1 unknown https://userstack.com/ Development\n"
      ]
     },
     "metadata": {},
     "output_type": "display_data"
    }
   ],
   "source": [
    "# Converting the api_content from JSON to an object in R.\n",
    "# Displaying a data frame that contains all the information about all the public APIs in the list\n",
    "api_data <- api_content %>% \n",
    "    fromJSON()\n",
    "api_data %>% \n",
    "    head()"
   ]
  },
  {
   "cell_type": "markdown",
   "metadata": {
    "tags": []
   },
   "source": [
    "### Comment, explain and present the work in a clear way (1 marks)"
   ]
  }
 ],
 "metadata": {
  "kernelspec": {
   "display_name": "R",
   "language": "R",
   "name": "ir"
  },
  "language_info": {
   "codemirror_mode": "r",
   "file_extension": ".r",
   "mimetype": "text/x-r-source",
   "name": "R",
   "pygments_lexer": "r",
   "version": "4.3.1"
  }
 },
 "nbformat": 4,
 "nbformat_minor": 4
}
